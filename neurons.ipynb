{
  "cells": [
    {
      "cell_type": "code",
      "execution_count": null,
      "id": "40609462",
      "metadata": {
        "id": "40609462"
      },
      "outputs": [],
      "source": [
        "#Importing necessary modules\n",
        "import pandas as pd\n",
        "import matplotlib.pyplot as plt\n",
        "import scipy.stats as stats\n",
        "import seaborn as sns\n",
        "import numpy as np"
      ]
    },
    {
      "cell_type": "markdown",
      "id": "67c121c5",
      "metadata": {
        "id": "67c121c5"
      },
      "source": [
        "**Question 1**\n",
        "\n",
        "**(a) Load the neurons group 1.csv dataset into Python as a pandas DataFrame.**"
      ]
    },
    {
      "cell_type": "code",
      "execution_count": null,
      "id": "66366acb",
      "metadata": {
        "id": "66366acb",
        "outputId": "c9a91acc-f7cd-4834-ebc6-3cf2165d9070"
      },
      "outputs": [
        {
          "data": {
            "text/html": [
              "<div>\n",
              "<style scoped>\n",
              "    .dataframe tbody tr th:only-of-type {\n",
              "        vertical-align: middle;\n",
              "    }\n",
              "\n",
              "    .dataframe tbody tr th {\n",
              "        vertical-align: top;\n",
              "    }\n",
              "\n",
              "    .dataframe thead th {\n",
              "        text-align: right;\n",
              "    }\n",
              "</style>\n",
              "<table border=\"1\" class=\"dataframe\">\n",
              "  <thead>\n",
              "    <tr style=\"text-align: right;\">\n",
              "      <th></th>\n",
              "      <th>id</th>\n",
              "      <th>average_diameter</th>\n",
              "      <th>overall_depth</th>\n",
              "      <th>overall_height</th>\n",
              "      <th>overall_width</th>\n",
              "      <th>soma_surface</th>\n",
              "      <th>total_length</th>\n",
              "      <th>total_surface</th>\n",
              "      <th>total_volume</th>\n",
              "    </tr>\n",
              "  </thead>\n",
              "  <tbody>\n",
              "    <tr>\n",
              "      <th>0</th>\n",
              "      <td>484775243</td>\n",
              "      <td>0.195628</td>\n",
              "      <td>90.3529</td>\n",
              "      <td>548.798070</td>\n",
              "      <td>257.109717</td>\n",
              "      <td>128.269219</td>\n",
              "      <td>3658.629571</td>\n",
              "      <td>2252.681880</td>\n",
              "      <td>115.626135</td>\n",
              "    </tr>\n",
              "    <tr>\n",
              "      <th>1</th>\n",
              "      <td>485996843</td>\n",
              "      <td>0.457635</td>\n",
              "      <td>87.0383</td>\n",
              "      <td>717.408343</td>\n",
              "      <td>199.214267</td>\n",
              "      <td>430.635072</td>\n",
              "      <td>4158.819949</td>\n",
              "      <td>5944.196007</td>\n",
              "      <td>730.014704</td>\n",
              "    </tr>\n",
              "    <tr>\n",
              "      <th>2</th>\n",
              "      <td>486041253</td>\n",
              "      <td>0.295455</td>\n",
              "      <td>75.3286</td>\n",
              "      <td>584.083922</td>\n",
              "      <td>386.076695</td>\n",
              "      <td>502.033948</td>\n",
              "      <td>2667.618389</td>\n",
              "      <td>2472.795020</td>\n",
              "      <td>197.063796</td>\n",
              "    </tr>\n",
              "    <tr>\n",
              "      <th>3</th>\n",
              "      <td>491119181</td>\n",
              "      <td>0.414033</td>\n",
              "      <td>89.0718</td>\n",
              "      <td>284.641670</td>\n",
              "      <td>239.492610</td>\n",
              "      <td>383.828302</td>\n",
              "      <td>1543.941010</td>\n",
              "      <td>2008.838025</td>\n",
              "      <td>237.466517</td>\n",
              "    </tr>\n",
              "    <tr>\n",
              "      <th>4</th>\n",
              "      <td>491119245</td>\n",
              "      <td>0.201323</td>\n",
              "      <td>44.5237</td>\n",
              "      <td>302.038542</td>\n",
              "      <td>323.493562</td>\n",
              "      <td>120.229052</td>\n",
              "      <td>1621.871325</td>\n",
              "      <td>1027.220686</td>\n",
              "      <td>54.521240</td>\n",
              "    </tr>\n",
              "  </tbody>\n",
              "</table>\n",
              "</div>"
            ],
            "text/plain": [
              "          id  average_diameter  overall_depth  overall_height  overall_width  \\\n",
              "0  484775243          0.195628        90.3529      548.798070     257.109717   \n",
              "1  485996843          0.457635        87.0383      717.408343     199.214267   \n",
              "2  486041253          0.295455        75.3286      584.083922     386.076695   \n",
              "3  491119181          0.414033        89.0718      284.641670     239.492610   \n",
              "4  491119245          0.201323        44.5237      302.038542     323.493562   \n",
              "\n",
              "   soma_surface  total_length  total_surface  total_volume  \n",
              "0    128.269219   3658.629571    2252.681880    115.626135  \n",
              "1    430.635072   4158.819949    5944.196007    730.014704  \n",
              "2    502.033948   2667.618389    2472.795020    197.063796  \n",
              "3    383.828302   1543.941010    2008.838025    237.466517  \n",
              "4    120.229052   1621.871325    1027.220686     54.521240  "
            ]
          },
          "execution_count": 225,
          "metadata": {},
          "output_type": "execute_result"
        }
      ],
      "source": [
        "#Load the group 1 dataset\n",
        "group1 = pd.read_csv('neurons_group_1.csv')\n",
        "#Print first 5 values\n",
        "group1.head()"
      ]
    },
    {
      "cell_type": "code",
      "execution_count": null,
      "id": "a40fcf32",
      "metadata": {
        "id": "a40fcf32",
        "outputId": "4cf99c4a-d95d-462e-a075-4d83239ad5a4"
      },
      "outputs": [
        {
          "data": {
            "text/plain": [
              "(311, 9)"
            ]
          },
          "execution_count": 226,
          "metadata": {},
          "output_type": "execute_result"
        }
      ],
      "source": [
        "group1.shape"
      ]
    },
    {
      "cell_type": "markdown",
      "id": "e6a8c197",
      "metadata": {
        "id": "e6a8c197"
      },
      "source": [
        "Group 1 as 311 observations/rows and 9 columns/variables."
      ]
    },
    {
      "cell_type": "markdown",
      "id": "548de370",
      "metadata": {
        "id": "548de370"
      },
      "source": [
        "**(b) Inspect the data. How many neurons are included in this dataset? How many different measurements are included? Does this dataset contain any missing values?**"
      ]
    },
    {
      "cell_type": "code",
      "execution_count": null,
      "id": "55c818d0",
      "metadata": {
        "id": "55c818d0",
        "outputId": "d4ce7729-f926-4f90-f7f2-1fec6d1f6f2b"
      },
      "outputs": [
        {
          "data": {
            "text/plain": [
              "311"
            ]
          },
          "execution_count": 227,
          "metadata": {},
          "output_type": "execute_result"
        }
      ],
      "source": [
        "len(group1['id'])"
      ]
    },
    {
      "cell_type": "markdown",
      "id": "fb85a4c0",
      "metadata": {
        "id": "fb85a4c0"
      },
      "source": [
        "The dataset contains information of 311 neurons."
      ]
    },
    {
      "cell_type": "code",
      "execution_count": null,
      "id": "2e47b541",
      "metadata": {
        "id": "2e47b541",
        "outputId": "42d49448-1d0b-4da8-c33b-1eafa2c6d6b8"
      },
      "outputs": [
        {
          "data": {
            "text/plain": [
              "Index(['id', 'average_diameter', 'overall_depth', 'overall_height',\n",
              "       'overall_width', 'soma_surface', 'total_length', 'total_surface',\n",
              "       'total_volume'],\n",
              "      dtype='object')"
            ]
          },
          "execution_count": 228,
          "metadata": {},
          "output_type": "execute_result"
        }
      ],
      "source": [
        "#To check different measurements by their column names\n",
        "group1.columns"
      ]
    },
    {
      "cell_type": "markdown",
      "id": "2f3848de",
      "metadata": {
        "id": "2f3848de"
      },
      "source": [
        "**Different measurements of neurons**\n",
        "1. **id** - Id of neurons\n",
        "2. **average_diameter**\n",
        "3. **overall_depth**\n",
        "4. **overall_height**\n",
        "5. **overall_width**\n",
        "6. **soma_surface**\n",
        "7. **total_length**\n",
        "8. **total_surface**\n",
        "9. **total_volume**"
      ]
    },
    {
      "cell_type": "code",
      "execution_count": null,
      "id": "33840525",
      "metadata": {
        "id": "33840525",
        "outputId": "277e1c8a-a3ce-4cb4-fc1f-8bb204ce7c25"
      },
      "outputs": [
        {
          "data": {
            "text/plain": [
              "id                  0\n",
              "average_diameter    0\n",
              "overall_depth       0\n",
              "overall_height      0\n",
              "overall_width       0\n",
              "soma_surface        0\n",
              "total_length        0\n",
              "total_surface       0\n",
              "total_volume        0\n",
              "dtype: int64"
            ]
          },
          "execution_count": 229,
          "metadata": {},
          "output_type": "execute_result"
        }
      ],
      "source": [
        "#Apply isna on every column\n",
        "group1.isna().sum()"
      ]
    },
    {
      "cell_type": "markdown",
      "id": "b7c55dbb",
      "metadata": {
        "id": "b7c55dbb"
      },
      "source": [
        "There are no missing values in the dataset."
      ]
    },
    {
      "cell_type": "markdown",
      "id": "2ffd7380",
      "metadata": {
        "id": "2ffd7380"
      },
      "source": [
        "**c) Perform an exploratory data analysis, creating both numerical and graphical summaries of the data. Discuss and interpret your results.**"
      ]
    },
    {
      "cell_type": "markdown",
      "id": "f8b98848",
      "metadata": {
        "id": "f8b98848"
      },
      "source": [
        "**Numerical Summary**"
      ]
    },
    {
      "cell_type": "code",
      "execution_count": null,
      "id": "1bd00120",
      "metadata": {
        "id": "1bd00120",
        "outputId": "db9e570d-fc4e-4d81-e283-b1e8b3e338b4"
      },
      "outputs": [
        {
          "data": {
            "text/html": [
              "<div>\n",
              "<style scoped>\n",
              "    .dataframe tbody tr th:only-of-type {\n",
              "        vertical-align: middle;\n",
              "    }\n",
              "\n",
              "    .dataframe tbody tr th {\n",
              "        vertical-align: top;\n",
              "    }\n",
              "\n",
              "    .dataframe thead th {\n",
              "        text-align: right;\n",
              "    }\n",
              "</style>\n",
              "<table border=\"1\" class=\"dataframe\">\n",
              "  <thead>\n",
              "    <tr style=\"text-align: right;\">\n",
              "      <th></th>\n",
              "      <th>id</th>\n",
              "      <th>average_diameter</th>\n",
              "      <th>overall_depth</th>\n",
              "      <th>overall_height</th>\n",
              "      <th>overall_width</th>\n",
              "      <th>soma_surface</th>\n",
              "      <th>total_length</th>\n",
              "      <th>total_surface</th>\n",
              "      <th>total_volume</th>\n",
              "    </tr>\n",
              "  </thead>\n",
              "  <tbody>\n",
              "    <tr>\n",
              "      <th>count</th>\n",
              "      <td>3.110000e+02</td>\n",
              "      <td>311.000000</td>\n",
              "      <td>311.000000</td>\n",
              "      <td>311.000000</td>\n",
              "      <td>311.000000</td>\n",
              "      <td>311.000000</td>\n",
              "      <td>311.000000</td>\n",
              "      <td>311.000000</td>\n",
              "      <td>311.000000</td>\n",
              "    </tr>\n",
              "    <tr>\n",
              "      <th>mean</th>\n",
              "      <td>5.885866e+08</td>\n",
              "      <td>0.421175</td>\n",
              "      <td>91.967024</td>\n",
              "      <td>523.516774</td>\n",
              "      <td>320.548089</td>\n",
              "      <td>361.849689</td>\n",
              "      <td>3792.940198</td>\n",
              "      <td>5492.737135</td>\n",
              "      <td>808.488483</td>\n",
              "    </tr>\n",
              "    <tr>\n",
              "      <th>std</th>\n",
              "      <td>8.490396e+07</td>\n",
              "      <td>0.159435</td>\n",
              "      <td>35.658760</td>\n",
              "      <td>299.256684</td>\n",
              "      <td>124.039953</td>\n",
              "      <td>253.912293</td>\n",
              "      <td>2775.993259</td>\n",
              "      <td>5719.713426</td>\n",
              "      <td>1190.466808</td>\n",
              "    </tr>\n",
              "    <tr>\n",
              "      <th>min</th>\n",
              "      <td>4.847752e+08</td>\n",
              "      <td>0.053899</td>\n",
              "      <td>22.680000</td>\n",
              "      <td>82.836871</td>\n",
              "      <td>49.173247</td>\n",
              "      <td>2.895610</td>\n",
              "      <td>251.987893</td>\n",
              "      <td>402.242787</td>\n",
              "      <td>4.309842</td>\n",
              "    </tr>\n",
              "    <tr>\n",
              "      <th>25%</th>\n",
              "      <td>4.961239e+08</td>\n",
              "      <td>0.322128</td>\n",
              "      <td>64.574450</td>\n",
              "      <td>328.964661</td>\n",
              "      <td>233.480547</td>\n",
              "      <td>176.194233</td>\n",
              "      <td>2237.031837</td>\n",
              "      <td>2253.626506</td>\n",
              "      <td>197.071679</td>\n",
              "    </tr>\n",
              "    <tr>\n",
              "      <th>50%</th>\n",
              "      <td>5.912744e+08</td>\n",
              "      <td>0.415613</td>\n",
              "      <td>86.212200</td>\n",
              "      <td>469.151885</td>\n",
              "      <td>291.532148</td>\n",
              "      <td>311.568275</td>\n",
              "      <td>2946.858866</td>\n",
              "      <td>3636.755377</td>\n",
              "      <td>407.180171</td>\n",
              "    </tr>\n",
              "    <tr>\n",
              "      <th>75%</th>\n",
              "      <td>6.568502e+08</td>\n",
              "      <td>0.527572</td>\n",
              "      <td>115.566350</td>\n",
              "      <td>651.885452</td>\n",
              "      <td>392.534334</td>\n",
              "      <td>478.796933</td>\n",
              "      <td>4085.692910</td>\n",
              "      <td>5895.663836</td>\n",
              "      <td>833.681728</td>\n",
              "    </tr>\n",
              "    <tr>\n",
              "      <th>max</th>\n",
              "      <td>8.460831e+08</td>\n",
              "      <td>1.156730</td>\n",
              "      <td>183.960000</td>\n",
              "      <td>1928.118350</td>\n",
              "      <td>827.752239</td>\n",
              "      <td>1283.720986</td>\n",
              "      <td>15697.415190</td>\n",
              "      <td>37182.284100</td>\n",
              "      <td>8482.061401</td>\n",
              "    </tr>\n",
              "  </tbody>\n",
              "</table>\n",
              "</div>"
            ],
            "text/plain": [
              "                 id  average_diameter  overall_depth  overall_height  \\\n",
              "count  3.110000e+02        311.000000     311.000000      311.000000   \n",
              "mean   5.885866e+08          0.421175      91.967024      523.516774   \n",
              "std    8.490396e+07          0.159435      35.658760      299.256684   \n",
              "min    4.847752e+08          0.053899      22.680000       82.836871   \n",
              "25%    4.961239e+08          0.322128      64.574450      328.964661   \n",
              "50%    5.912744e+08          0.415613      86.212200      469.151885   \n",
              "75%    6.568502e+08          0.527572     115.566350      651.885452   \n",
              "max    8.460831e+08          1.156730     183.960000     1928.118350   \n",
              "\n",
              "       overall_width  soma_surface  total_length  total_surface  total_volume  \n",
              "count     311.000000    311.000000    311.000000     311.000000    311.000000  \n",
              "mean      320.548089    361.849689   3792.940198    5492.737135    808.488483  \n",
              "std       124.039953    253.912293   2775.993259    5719.713426   1190.466808  \n",
              "min        49.173247      2.895610    251.987893     402.242787      4.309842  \n",
              "25%       233.480547    176.194233   2237.031837    2253.626506    197.071679  \n",
              "50%       291.532148    311.568275   2946.858866    3636.755377    407.180171  \n",
              "75%       392.534334    478.796933   4085.692910    5895.663836    833.681728  \n",
              "max       827.752239   1283.720986  15697.415190   37182.284100   8482.061401  "
            ]
          },
          "execution_count": 230,
          "metadata": {},
          "output_type": "execute_result"
        }
      ],
      "source": [
        "group1.describe()"
      ]
    },
    {
      "cell_type": "markdown",
      "id": "b7618cf7",
      "metadata": {
        "id": "b7618cf7"
      },
      "source": [
        "Following interpretaion to be noted:\n",
        "\n",
        "1. The total surface has a higher mean 5492.7371 and the average diameter has a lower mean 0.42. Each measurements in the dataset have different mean and standard deviation.\n",
        "2. Certainly, standard deviation for the total surface is also higher.\n",
        "3. The median of average diameter is approximately equal to the mean, indicating that the distributions is symmetric.\n",
        "4. The median of every measurements is significantly lower than the mean, indicating that the distribution is right skewed.\n",
        "5. The min value of total_volume and soma surface is 4.30 and 2.89 respectively, while max value is 8482.06 and 1283.72 showing the amount of variation in values.\n",
        "6. Overall depth has mean 91.96 and standard deviation 35.658.\n",
        "7. Overall height and overall width has min value 82.83 and 49.173 while max value is 1928.11 and 827.75 indicating the each neuron can have large variation."
      ]
    },
    {
      "cell_type": "markdown",
      "id": "8e519a31",
      "metadata": {
        "id": "8e519a31"
      },
      "source": [
        "**Graphical Summary**\n",
        "\n",
        "Below code shows Histogram for each measurements."
      ]
    },
    {
      "cell_type": "code",
      "execution_count": null,
      "id": "754c139a",
      "metadata": {
        "id": "754c139a",
        "outputId": "dce23532-195e-4904-8705-38dc537b64ec"
      },
      "outputs": [
        {
          "data": {
            "text/plain": [
              "Text(0, 0.5, 'Total length')"
            ]
          },
          "execution_count": 231,
          "metadata": {},
          "output_type": "execute_result"
        },
        {
          "data": {
            "image/png": "[encoded data removed]",
            "text/plain": [
              "<Figure size 2000x1200 with 6 Axes>"
            ]
          },
          "metadata": {},
          "output_type": "display_data"
        }
      ],
      "source": [
        "fig = plt.figure(figsize=(20,12))\n",
        "plt.subplot(2,3,1)\n",
        "plt.hist(group1['average_diameter'], color='b', bins=15)\n",
        "plt.xlabel('Neurons ID',size=18)\n",
        "plt.ylabel('Average Diameter',size=18)\n",
        "\n",
        "plt.subplot(2,3,2)\n",
        "plt.hist(group1['overall_depth'], color='r', bins=15)\n",
        "plt.xlabel('Neurons ID',size=18)\n",
        "plt.ylabel('Overall Depth',size=18)\n",
        "\n",
        "plt.subplot(2,3,3)\n",
        "plt.hist(group1['overall_height'], color='g', bins=15)\n",
        "plt.xlabel('Neurons ID',size=18)\n",
        "plt.ylabel('Overall Height',size=18)\n",
        "\n",
        "plt.subplot(2,3,4)\n",
        "plt.hist(group1['overall_width'], color='c', bins=15)\n",
        "plt.xlabel('Neurons ID',size=18)\n",
        "plt.ylabel('Overall Width',size=18)\n",
        "\n",
        "plt.subplot(2,3,5)\n",
        "plt.hist(group1['soma_surface'], color='m', bins=15)\n",
        "plt.xlabel('Neurons ID',size=18)\n",
        "plt.ylabel('Soma surface',size=18)\n",
        "\n",
        "plt.subplot(2,3,6)\n",
        "plt.hist(group1['total_length'], color='b', bins=15)\n",
        "plt.xlabel('Neurons ID',size=18)\n",
        "plt.ylabel('Total length',size=18)\n"
      ]
    },
    {
      "cell_type": "code",
      "execution_count": null,
      "id": "d2569d99",
      "metadata": {
        "id": "d2569d99",
        "outputId": "66d02d4a-cc11-4be2-c958-92aae59c1317"
      },
      "outputs": [
        {
          "data": {
            "text/plain": [
              "Text(0, 0.5, 'Total Volume')"
            ]
          },
          "execution_count": 312,
          "metadata": {},
          "output_type": "execute_result"
        },
        {
          "data": {
            "image/png": "[encoded data removed]",
            "text/plain": [
              "<Figure size 2000x1200 with 2 Axes>"
            ]
          },
          "metadata": {},
          "output_type": "display_data"
        }
      ],
      "source": [
        "fig = plt.figure(figsize=(20,12))\n",
        "plt.subplot(2,3,1)\n",
        "plt.hist(group1['total_surface'], color='g', bins=15)\n",
        "plt.xlabel('Neurons ID',size=14)\n",
        "plt.ylabel('Total surface',size=14)\n",
        "\n",
        "plt.subplot(2,3,2)\n",
        "plt.hist(group1['total_volume'], color='c', bins=15)\n",
        "plt.xlabel('Neurons ID',size=14)\n",
        "plt.ylabel('Total Volume',size=14)\n"
      ]
    },
    {
      "cell_type": "markdown",
      "id": "5bfb9df6",
      "metadata": {
        "id": "5bfb9df6"
      },
      "source": [
        "1. Above plot shows that apart from overall depth and average diameter, almost every measurement is right skewed. \n",
        "2. Overall depth shows almost symmetric distribution."
      ]
    },
    {
      "cell_type": "markdown",
      "id": "452b8d1b",
      "metadata": {
        "id": "452b8d1b"
      },
      "source": [
        "**Question 2**\n",
        "\n",
        "**(a) Load the neurons group 2.csv dataset into Python as a pandas DataFrame.**"
      ]
    },
    {
      "cell_type": "code",
      "execution_count": null,
      "id": "3b70b6cf",
      "metadata": {
        "id": "3b70b6cf",
        "outputId": "f3adc7eb-dfcf-4820-998f-aeaf86e4f4d9"
      },
      "outputs": [
        {
          "data": {
            "text/html": [
              "<div>\n",
              "<style scoped>\n",
              "    .dataframe tbody tr th:only-of-type {\n",
              "        vertical-align: middle;\n",
              "    }\n",
              "\n",
              "    .dataframe tbody tr th {\n",
              "        vertical-align: top;\n",
              "    }\n",
              "\n",
              "    .dataframe thead th {\n",
              "        text-align: right;\n",
              "    }\n",
              "</style>\n",
              "<table border=\"1\" class=\"dataframe\">\n",
              "  <thead>\n",
              "    <tr style=\"text-align: right;\">\n",
              "      <th></th>\n",
              "      <th>id</th>\n",
              "      <th>average_diameter</th>\n",
              "      <th>overall_depth</th>\n",
              "      <th>overall_height</th>\n",
              "      <th>overall_width</th>\n",
              "      <th>soma_surface</th>\n",
              "      <th>total_length</th>\n",
              "      <th>total_surface</th>\n",
              "      <th>total_volume</th>\n",
              "    </tr>\n",
              "  </thead>\n",
              "  <tbody>\n",
              "    <tr>\n",
              "      <th>0</th>\n",
              "      <td>397905347</td>\n",
              "      <td>0.316091</td>\n",
              "      <td>117.5429</td>\n",
              "      <td>585.602322</td>\n",
              "      <td>287.122628</td>\n",
              "      <td>268.777679</td>\n",
              "      <td>3498.090031</td>\n",
              "      <td>3523.606841</td>\n",
              "      <td>306.290931</td>\n",
              "    </tr>\n",
              "    <tr>\n",
              "      <th>1</th>\n",
              "      <td>491119234</td>\n",
              "      <td>0.331268</td>\n",
              "      <td>81.9012</td>\n",
              "      <td>461.280515</td>\n",
              "      <td>275.146120</td>\n",
              "      <td>551.788645</td>\n",
              "      <td>2008.302439</td>\n",
              "      <td>2097.688550</td>\n",
              "      <td>188.431435</td>\n",
              "    </tr>\n",
              "    <tr>\n",
              "      <th>2</th>\n",
              "      <td>491119269</td>\n",
              "      <td>0.139015</td>\n",
              "      <td>57.5697</td>\n",
              "      <td>324.422347</td>\n",
              "      <td>280.851229</td>\n",
              "      <td>50.092109</td>\n",
              "      <td>1774.258366</td>\n",
              "      <td>776.076427</td>\n",
              "      <td>25.733000</td>\n",
              "    </tr>\n",
              "    <tr>\n",
              "      <th>3</th>\n",
              "      <td>491119394</td>\n",
              "      <td>0.230412</td>\n",
              "      <td>76.0357</td>\n",
              "      <td>368.298267</td>\n",
              "      <td>251.377567</td>\n",
              "      <td>244.457685</td>\n",
              "      <td>1650.188964</td>\n",
              "      <td>1198.531518</td>\n",
              "      <td>75.823080</td>\n",
              "    </tr>\n",
              "    <tr>\n",
              "      <th>4</th>\n",
              "      <td>491119419</td>\n",
              "      <td>0.321163</td>\n",
              "      <td>98.8344</td>\n",
              "      <td>417.890620</td>\n",
              "      <td>193.590563</td>\n",
              "      <td>252.423672</td>\n",
              "      <td>2066.369729</td>\n",
              "      <td>2085.789861</td>\n",
              "      <td>180.446414</td>\n",
              "    </tr>\n",
              "  </tbody>\n",
              "</table>\n",
              "</div>"
            ],
            "text/plain": [
              "          id  average_diameter  overall_depth  overall_height  overall_width  \\\n",
              "0  397905347          0.316091       117.5429      585.602322     287.122628   \n",
              "1  491119234          0.331268        81.9012      461.280515     275.146120   \n",
              "2  491119269          0.139015        57.5697      324.422347     280.851229   \n",
              "3  491119394          0.230412        76.0357      368.298267     251.377567   \n",
              "4  491119419          0.321163        98.8344      417.890620     193.590563   \n",
              "\n",
              "   soma_surface  total_length  total_surface  total_volume  \n",
              "0    268.777679   3498.090031    3523.606841    306.290931  \n",
              "1    551.788645   2008.302439    2097.688550    188.431435  \n",
              "2     50.092109   1774.258366     776.076427     25.733000  \n",
              "3    244.457685   1650.188964    1198.531518     75.823080  \n",
              "4    252.423672   2066.369729    2085.789861    180.446414  "
            ]
          },
          "execution_count": 233,
          "metadata": {},
          "output_type": "execute_result"
        }
      ],
      "source": [
        "#Load the dataset\n",
        "group2 = pd.read_csv('neurons_group_2.csv')\n",
        "#Print first 5 values\n",
        "group2.head()"
      ]
    },
    {
      "cell_type": "markdown",
      "id": "509ab6cb",
      "metadata": {
        "id": "509ab6cb"
      },
      "source": [
        "**(b) Inspect the data. How many neurons are included in this dataset? Are the measurements the same as those in neurons group 1.csv?**\n"
      ]
    },
    {
      "cell_type": "code",
      "execution_count": null,
      "id": "41e8a709",
      "metadata": {
        "id": "41e8a709",
        "outputId": "f52bd902-faf7-437e-cd45-6874d357f240"
      },
      "outputs": [
        {
          "name": "stdout",
          "output_type": "stream",
          "text": [
            "No of neurons in group 2:  390\n"
          ]
        }
      ],
      "source": [
        "print(\"No of neurons in group 2: \",len(group2['id']))"
      ]
    },
    {
      "cell_type": "code",
      "execution_count": null,
      "id": "015b5365",
      "metadata": {
        "id": "015b5365",
        "outputId": "49f9abd7-dbda-427d-f1f7-859ed25f9e53"
      },
      "outputs": [
        {
          "data": {
            "text/plain": [
              "Index(['id', 'average_diameter', 'overall_depth', 'overall_height',\n",
              "       'overall_width', 'soma_surface', 'total_length', 'total_surface',\n",
              "       'total_volume'],\n",
              "      dtype='object')"
            ]
          },
          "execution_count": 235,
          "metadata": {},
          "output_type": "execute_result"
        }
      ],
      "source": [
        "#To check different measurements by their column names\n",
        "group2.columns"
      ]
    },
    {
      "cell_type": "markdown",
      "id": "335716f3",
      "metadata": {
        "id": "335716f3"
      },
      "source": [
        "Group 2 neurons dataset contains same set of measurements as of group 1 neurons."
      ]
    },
    {
      "cell_type": "markdown",
      "id": "bd232c8b",
      "metadata": {
        "id": "bd232c8b"
      },
      "source": [
        "**(c) Perform a t-test, for each of the measurements, to test whether any of the neuron properties differ between the group 1 and group 2. Use a significance level of α = 0.01. Display the t-score and p-value for each measurement. Clearly state the conclusion of your tests and explain your reasoning.**"
      ]
    },
    {
      "cell_type": "code",
      "execution_count": null,
      "id": "d6118770",
      "metadata": {
        "id": "d6118770",
        "outputId": "a49faedf-28f1-4a56-d369-eb006caaecdf"
      },
      "outputs": [
        {
          "data": {
            "text/plain": [
              "Ttest_indResult(statistic=-1.1970075781748384, pvalue=0.2317093984993563)"
            ]
          },
          "execution_count": 236,
          "metadata": {},
          "output_type": "execute_result"
        }
      ],
      "source": [
        "stats.ttest_ind(group1['average_diameter'], group2['average_diameter'])"
      ]
    },
    {
      "cell_type": "markdown",
      "id": "b8801b5b",
      "metadata": {
        "id": "b8801b5b"
      },
      "source": [
        "pvalue = 0.231\n",
        "\n",
        "alpha = 0.01 \n",
        "\n",
        "p_value>0.01, We accept the null hypothesis that average diameter of group1 and group2 neurons differs"
      ]
    },
    {
      "cell_type": "code",
      "execution_count": null,
      "id": "3e3c43e6",
      "metadata": {
        "id": "3e3c43e6",
        "outputId": "2b3233d6-3d0a-4dc8-bd11-51b663f97f72"
      },
      "outputs": [
        {
          "data": {
            "text/plain": [
              "Ttest_indResult(statistic=-1.1857230913955603, pvalue=0.23613458215666971)"
            ]
          },
          "execution_count": 237,
          "metadata": {},
          "output_type": "execute_result"
        }
      ],
      "source": [
        "stats.ttest_ind(group1['overall_depth'], group2['overall_depth'])"
      ]
    },
    {
      "cell_type": "markdown",
      "id": "74381c5f",
      "metadata": {
        "id": "74381c5f"
      },
      "source": [
        "pvalue = 0.236\n",
        "\n",
        "alpha = 0.01 \n",
        "\n",
        "p_value>0.01, We accept the null hypothesis that overall depth of group1 and group2 neurons differs"
      ]
    },
    {
      "cell_type": "code",
      "execution_count": null,
      "id": "31d2e799",
      "metadata": {
        "id": "31d2e799",
        "outputId": "5615ae60-abd1-4640-9f6c-d32aa9e27889"
      },
      "outputs": [
        {
          "data": {
            "text/plain": [
              "Ttest_indResult(statistic=0.5860348440044614, pvalue=0.5580412742530052)"
            ]
          },
          "execution_count": 238,
          "metadata": {},
          "output_type": "execute_result"
        }
      ],
      "source": [
        "stats.ttest_ind(group1['overall_height'], group2['overall_height'])"
      ]
    },
    {
      "cell_type": "markdown",
      "id": "95e22934",
      "metadata": {
        "id": "95e22934"
      },
      "source": [
        "pvalue = 0.558\n",
        "\n",
        "alpha = 0.01 \n",
        "\n",
        "p_value>0.01, We accept the null hypothesis that overall height of group1 and group2 neurons differs"
      ]
    },
    {
      "cell_type": "code",
      "execution_count": null,
      "id": "12cf8368",
      "metadata": {
        "id": "12cf8368",
        "outputId": "926ecad8-d492-4131-901d-a45f2fc24319"
      },
      "outputs": [
        {
          "data": {
            "text/plain": [
              "Ttest_indResult(statistic=-0.9231920391791176, pvalue=0.3562256919514518)"
            ]
          },
          "execution_count": 239,
          "metadata": {},
          "output_type": "execute_result"
        }
      ],
      "source": [
        "stats.ttest_ind(group1['overall_width'], group2['overall_width'])"
      ]
    },
    {
      "cell_type": "markdown",
      "id": "b31d215f",
      "metadata": {
        "id": "b31d215f"
      },
      "source": [
        "pvalue = 0.356\n",
        "\n",
        "alpha = 0.01 \n",
        "\n",
        "p_value>0.01, We accept the null hypothesis that overall width of group1 and group2 neurons differs"
      ]
    },
    {
      "cell_type": "code",
      "execution_count": null,
      "id": "32f46fa2",
      "metadata": {
        "id": "32f46fa2",
        "outputId": "d88b1348-84e9-4053-a8ce-664e8d2a2610"
      },
      "outputs": [
        {
          "data": {
            "text/plain": [
              "Ttest_indResult(statistic=-0.547797643314149, pvalue=0.5840057333717408)"
            ]
          },
          "execution_count": 240,
          "metadata": {},
          "output_type": "execute_result"
        }
      ],
      "source": [
        "stats.ttest_ind(group1['soma_surface'], group2['soma_surface'])"
      ]
    },
    {
      "cell_type": "markdown",
      "id": "44cb3e87",
      "metadata": {
        "id": "44cb3e87"
      },
      "source": [
        "pvalue = 0.584\n",
        "\n",
        "alpha = 0.01 \n",
        "\n",
        "p_value>0.01, We accept the null hypothesis that soma surface of group1 and group2 neurons differs"
      ]
    },
    {
      "cell_type": "code",
      "execution_count": null,
      "id": "d34b6a02",
      "metadata": {
        "id": "d34b6a02",
        "outputId": "c81843ba-a3af-4ed7-d5b9-7ce2fa952845"
      },
      "outputs": [
        {
          "data": {
            "text/plain": [
              "Ttest_indResult(statistic=-0.332599650604377, pvalue=0.7395362277560685)"
            ]
          },
          "execution_count": 241,
          "metadata": {},
          "output_type": "execute_result"
        }
      ],
      "source": [
        "stats.ttest_ind(group1['total_length'], group2['total_length'])"
      ]
    },
    {
      "cell_type": "markdown",
      "id": "0155f6ca",
      "metadata": {
        "id": "0155f6ca"
      },
      "source": [
        "pvalue = 0.739\n",
        "\n",
        "alpha = 0.01 \n",
        "\n",
        "p_value>0.01, We accept the null hypothesis that total length of group1 and group2 neurons differs"
      ]
    },
    {
      "cell_type": "code",
      "execution_count": null,
      "id": "0a4c5efb",
      "metadata": {
        "id": "0a4c5efb",
        "outputId": "225ade60-07ce-4398-b2d5-93becd2a2532"
      },
      "outputs": [
        {
          "data": {
            "text/plain": [
              "Ttest_indResult(statistic=-0.8152397825540432, pvalue=0.4152127535605644)"
            ]
          },
          "execution_count": 242,
          "metadata": {},
          "output_type": "execute_result"
        }
      ],
      "source": [
        "stats.ttest_ind(group1['total_surface'], group2['total_surface'])"
      ]
    },
    {
      "cell_type": "markdown",
      "id": "c2a8cde4",
      "metadata": {
        "id": "c2a8cde4"
      },
      "source": [
        "pvalue = 0.415\n",
        "\n",
        "alpha = 0.01 \n",
        "\n",
        "p_value>0.01, We accept the null hypothesis that total surface of group1 and group2 neurons differs"
      ]
    },
    {
      "cell_type": "code",
      "execution_count": null,
      "id": "11925833",
      "metadata": {
        "id": "11925833",
        "outputId": "1fb7cc56-7507-4603-fc3e-4ffee69353fe"
      },
      "outputs": [
        {
          "data": {
            "text/plain": [
              "Ttest_indResult(statistic=-0.9313735524535137, pvalue=0.35198192808008333)"
            ]
          },
          "execution_count": 243,
          "metadata": {},
          "output_type": "execute_result"
        }
      ],
      "source": [
        "stats.ttest_ind(group1['total_volume'], group2['total_volume'])"
      ]
    },
    {
      "cell_type": "markdown",
      "id": "d6c7921e",
      "metadata": {
        "id": "d6c7921e"
      },
      "source": [
        "pvalue = 0.351\n",
        "\n",
        "alpha = 0.01 \n",
        "\n",
        "p_value>0.01, We accept the null hypothesis that total volume of group1 and group2 neurons differs"
      ]
    },
    {
      "cell_type": "markdown",
      "id": "44778756",
      "metadata": {
        "id": "44778756"
      },
      "source": [
        "Above test proves that measurements in both dataset for two sets of neurons shares the same relation. The values may differ but the measurements are same."
      ]
    },
    {
      "cell_type": "markdown",
      "id": "b9e483cd",
      "metadata": {
        "id": "b9e483cd"
      },
      "source": [
        "**Question 3**\n",
        "\n",
        "**(a) Load the neurons additional measurements.csv into Python and combine all\n",
        "three datasets into a single DataFrame.**"
      ]
    },
    {
      "cell_type": "code",
      "execution_count": null,
      "id": "7e133a68",
      "metadata": {
        "id": "7e133a68",
        "outputId": "f78aa257-2837-4805-f31d-3cc5d13651ec"
      },
      "outputs": [
        {
          "data": {
            "text/html": [
              "<div>\n",
              "<style scoped>\n",
              "    .dataframe tbody tr th:only-of-type {\n",
              "        vertical-align: middle;\n",
              "    }\n",
              "\n",
              "    .dataframe tbody tr th {\n",
              "        vertical-align: top;\n",
              "    }\n",
              "\n",
              "    .dataframe thead th {\n",
              "        text-align: right;\n",
              "    }\n",
              "</style>\n",
              "<table border=\"1\" class=\"dataframe\">\n",
              "  <thead>\n",
              "    <tr style=\"text-align: right;\">\n",
              "      <th></th>\n",
              "      <th>id</th>\n",
              "      <th>average_bifurcation_angle_local</th>\n",
              "      <th>average_contraction</th>\n",
              "      <th>average_fragmentation</th>\n",
              "      <th>average_parent_daughter_ratio</th>\n",
              "      <th>max_branch_order</th>\n",
              "      <th>max_euclidean_distance</th>\n",
              "      <th>max_path_distance</th>\n",
              "      <th>number_bifurcations</th>\n",
              "      <th>number_branches</th>\n",
              "      <th>number_nodes</th>\n",
              "      <th>number_stems</th>\n",
              "      <th>number_tips</th>\n",
              "    </tr>\n",
              "  </thead>\n",
              "  <tbody>\n",
              "    <tr>\n",
              "      <th>0</th>\n",
              "      <td>491119743</td>\n",
              "      <td>82.727781</td>\n",
              "      <td>0.864267</td>\n",
              "      <td>20.723077</td>\n",
              "      <td>0.964510</td>\n",
              "      <td>6</td>\n",
              "      <td>99.779724</td>\n",
              "      <td>126.593790</td>\n",
              "      <td>33</td>\n",
              "      <td>73</td>\n",
              "      <td>1470</td>\n",
              "      <td>7</td>\n",
              "      <td>40</td>\n",
              "    </tr>\n",
              "    <tr>\n",
              "      <th>1</th>\n",
              "      <td>546781359</td>\n",
              "      <td>82.506680</td>\n",
              "      <td>0.903890</td>\n",
              "      <td>105.277778</td>\n",
              "      <td>0.862183</td>\n",
              "      <td>3</td>\n",
              "      <td>432.383110</td>\n",
              "      <td>496.831994</td>\n",
              "      <td>9</td>\n",
              "      <td>23</td>\n",
              "      <td>2011</td>\n",
              "      <td>5</td>\n",
              "      <td>14</td>\n",
              "    </tr>\n",
              "    <tr>\n",
              "      <th>2</th>\n",
              "      <td>537042261</td>\n",
              "      <td>77.536678</td>\n",
              "      <td>0.863104</td>\n",
              "      <td>73.666667</td>\n",
              "      <td>0.926633</td>\n",
              "      <td>6</td>\n",
              "      <td>373.630444</td>\n",
              "      <td>436.958952</td>\n",
              "      <td>21</td>\n",
              "      <td>46</td>\n",
              "      <td>3137</td>\n",
              "      <td>4</td>\n",
              "      <td>25</td>\n",
              "    </tr>\n",
              "    <tr>\n",
              "      <th>3</th>\n",
              "      <td>689123605</td>\n",
              "      <td>76.583222</td>\n",
              "      <td>0.900537</td>\n",
              "      <td>95.979167</td>\n",
              "      <td>0.942049</td>\n",
              "      <td>11</td>\n",
              "      <td>943.382549</td>\n",
              "      <td>989.448318</td>\n",
              "      <td>24</td>\n",
              "      <td>52</td>\n",
              "      <td>4652</td>\n",
              "      <td>4</td>\n",
              "      <td>28</td>\n",
              "    </tr>\n",
              "    <tr>\n",
              "      <th>4</th>\n",
              "      <td>657879305</td>\n",
              "      <td>72.019250</td>\n",
              "      <td>0.873518</td>\n",
              "      <td>47.535714</td>\n",
              "      <td>1.000000</td>\n",
              "      <td>5</td>\n",
              "      <td>186.218009</td>\n",
              "      <td>221.639502</td>\n",
              "      <td>14</td>\n",
              "      <td>32</td>\n",
              "      <td>1406</td>\n",
              "      <td>4</td>\n",
              "      <td>18</td>\n",
              "    </tr>\n",
              "  </tbody>\n",
              "</table>\n",
              "</div>"
            ],
            "text/plain": [
              "          id  average_bifurcation_angle_local  average_contraction  \\\n",
              "0  491119743                        82.727781             0.864267   \n",
              "1  546781359                        82.506680             0.903890   \n",
              "2  537042261                        77.536678             0.863104   \n",
              "3  689123605                        76.583222             0.900537   \n",
              "4  657879305                        72.019250             0.873518   \n",
              "\n",
              "   average_fragmentation  average_parent_daughter_ratio  max_branch_order  \\\n",
              "0              20.723077                       0.964510                 6   \n",
              "1             105.277778                       0.862183                 3   \n",
              "2              73.666667                       0.926633                 6   \n",
              "3              95.979167                       0.942049                11   \n",
              "4              47.535714                       1.000000                 5   \n",
              "\n",
              "   max_euclidean_distance  max_path_distance  number_bifurcations  \\\n",
              "0               99.779724         126.593790                   33   \n",
              "1              432.383110         496.831994                    9   \n",
              "2              373.630444         436.958952                   21   \n",
              "3              943.382549         989.448318                   24   \n",
              "4              186.218009         221.639502                   14   \n",
              "\n",
              "   number_branches  number_nodes  number_stems  number_tips  \n",
              "0               73          1470             7           40  \n",
              "1               23          2011             5           14  \n",
              "2               46          3137             4           25  \n",
              "3               52          4652             4           28  \n",
              "4               32          1406             4           18  "
            ]
          },
          "execution_count": 244,
          "metadata": {},
          "output_type": "execute_result"
        }
      ],
      "source": [
        "#Load the dataset\n",
        "neurons_add = pd.read_csv('neurons_additional_measurements.csv')\n",
        "#Print first 5 values\n",
        "neurons_add.head()"
      ]
    },
    {
      "cell_type": "code",
      "execution_count": null,
      "id": "260bfaee",
      "metadata": {
        "id": "260bfaee",
        "outputId": "2e22622b-7417-4ced-823e-902e8a65c287"
      },
      "outputs": [
        {
          "name": "stdout",
          "output_type": "stream",
          "text": [
            "(694, 13)\n"
          ]
        }
      ],
      "source": [
        "print(neurons_add.shape)"
      ]
    },
    {
      "cell_type": "markdown",
      "id": "a5b56287",
      "metadata": {
        "id": "a5b56287"
      },
      "source": [
        "This dataset contains 694 observations and 13 columns"
      ]
    },
    {
      "cell_type": "code",
      "execution_count": null,
      "id": "7a0427fe",
      "metadata": {
        "id": "7a0427fe",
        "outputId": "ba811dbb-a797-46e3-dafb-9be165f0d42d"
      },
      "outputs": [
        {
          "data": {
            "text/html": [
              "<div>\n",
              "<style scoped>\n",
              "    .dataframe tbody tr th:only-of-type {\n",
              "        vertical-align: middle;\n",
              "    }\n",
              "\n",
              "    .dataframe tbody tr th {\n",
              "        vertical-align: top;\n",
              "    }\n",
              "\n",
              "    .dataframe thead th {\n",
              "        text-align: right;\n",
              "    }\n",
              "</style>\n",
              "<table border=\"1\" class=\"dataframe\">\n",
              "  <thead>\n",
              "    <tr style=\"text-align: right;\">\n",
              "      <th></th>\n",
              "      <th>id</th>\n",
              "      <th>average_diameter</th>\n",
              "      <th>overall_depth</th>\n",
              "      <th>overall_height</th>\n",
              "      <th>overall_width</th>\n",
              "      <th>soma_surface</th>\n",
              "      <th>total_length</th>\n",
              "      <th>total_surface</th>\n",
              "      <th>total_volume</th>\n",
              "    </tr>\n",
              "  </thead>\n",
              "  <tbody>\n",
              "    <tr>\n",
              "      <th>0</th>\n",
              "      <td>484775243</td>\n",
              "      <td>0.195628</td>\n",
              "      <td>90.3529</td>\n",
              "      <td>548.798070</td>\n",
              "      <td>257.109717</td>\n",
              "      <td>128.269219</td>\n",
              "      <td>3658.629571</td>\n",
              "      <td>2252.681880</td>\n",
              "      <td>115.626135</td>\n",
              "    </tr>\n",
              "    <tr>\n",
              "      <th>1</th>\n",
              "      <td>485996843</td>\n",
              "      <td>0.457635</td>\n",
              "      <td>87.0383</td>\n",
              "      <td>717.408343</td>\n",
              "      <td>199.214267</td>\n",
              "      <td>430.635072</td>\n",
              "      <td>4158.819949</td>\n",
              "      <td>5944.196007</td>\n",
              "      <td>730.014704</td>\n",
              "    </tr>\n",
              "    <tr>\n",
              "      <th>2</th>\n",
              "      <td>486041253</td>\n",
              "      <td>0.295455</td>\n",
              "      <td>75.3286</td>\n",
              "      <td>584.083922</td>\n",
              "      <td>386.076695</td>\n",
              "      <td>502.033948</td>\n",
              "      <td>2667.618389</td>\n",
              "      <td>2472.795020</td>\n",
              "      <td>197.063796</td>\n",
              "    </tr>\n",
              "    <tr>\n",
              "      <th>3</th>\n",
              "      <td>491119181</td>\n",
              "      <td>0.414033</td>\n",
              "      <td>89.0718</td>\n",
              "      <td>284.641670</td>\n",
              "      <td>239.492610</td>\n",
              "      <td>383.828302</td>\n",
              "      <td>1543.941010</td>\n",
              "      <td>2008.838025</td>\n",
              "      <td>237.466517</td>\n",
              "    </tr>\n",
              "    <tr>\n",
              "      <th>4</th>\n",
              "      <td>491119245</td>\n",
              "      <td>0.201323</td>\n",
              "      <td>44.5237</td>\n",
              "      <td>302.038542</td>\n",
              "      <td>323.493562</td>\n",
              "      <td>120.229052</td>\n",
              "      <td>1621.871325</td>\n",
              "      <td>1027.220686</td>\n",
              "      <td>54.521240</td>\n",
              "    </tr>\n",
              "  </tbody>\n",
              "</table>\n",
              "</div>"
            ],
            "text/plain": [
              "          id  average_diameter  overall_depth  overall_height  overall_width  \\\n",
              "0  484775243          0.195628        90.3529      548.798070     257.109717   \n",
              "1  485996843          0.457635        87.0383      717.408343     199.214267   \n",
              "2  486041253          0.295455        75.3286      584.083922     386.076695   \n",
              "3  491119181          0.414033        89.0718      284.641670     239.492610   \n",
              "4  491119245          0.201323        44.5237      302.038542     323.493562   \n",
              "\n",
              "   soma_surface  total_length  total_surface  total_volume  \n",
              "0    128.269219   3658.629571    2252.681880    115.626135  \n",
              "1    430.635072   4158.819949    5944.196007    730.014704  \n",
              "2    502.033948   2667.618389    2472.795020    197.063796  \n",
              "3    383.828302   1543.941010    2008.838025    237.466517  \n",
              "4    120.229052   1621.871325    1027.220686     54.521240  "
            ]
          },
          "execution_count": 246,
          "metadata": {},
          "output_type": "execute_result"
        }
      ],
      "source": [
        "#Merging the group 1 and group 2 dataset \n",
        "new = pd.concat([group1 , group2])\n",
        "#Print first 5 values of merged data\n",
        "new.head()"
      ]
    },
    {
      "cell_type": "code",
      "execution_count": null,
      "id": "de43460e",
      "metadata": {
        "id": "de43460e"
      },
      "outputs": [],
      "source": [
        "#merge all DataFrames into one\n",
        "data = pd.merge(new, neurons_add, on='id',how=\"outer\")"
      ]
    },
    {
      "cell_type": "code",
      "execution_count": null,
      "id": "5aaa7b75",
      "metadata": {
        "id": "5aaa7b75",
        "outputId": "e12fae2b-c9b4-40e5-b708-59c9f42540c2"
      },
      "outputs": [
        {
          "data": {
            "text/html": [
              "<div>\n",
              "<style scoped>\n",
              "    .dataframe tbody tr th:only-of-type {\n",
              "        vertical-align: middle;\n",
              "    }\n",
              "\n",
              "    .dataframe tbody tr th {\n",
              "        vertical-align: top;\n",
              "    }\n",
              "\n",
              "    .dataframe thead th {\n",
              "        text-align: right;\n",
              "    }\n",
              "</style>\n",
              "<table border=\"1\" class=\"dataframe\">\n",
              "  <thead>\n",
              "    <tr style=\"text-align: right;\">\n",
              "      <th></th>\n",
              "      <th>id</th>\n",
              "      <th>average_diameter</th>\n",
              "      <th>overall_depth</th>\n",
              "      <th>overall_height</th>\n",
              "      <th>overall_width</th>\n",
              "      <th>soma_surface</th>\n",
              "      <th>total_length</th>\n",
              "      <th>total_surface</th>\n",
              "      <th>total_volume</th>\n",
              "      <th>average_bifurcation_angle_local</th>\n",
              "      <th>...</th>\n",
              "      <th>average_fragmentation</th>\n",
              "      <th>average_parent_daughter_ratio</th>\n",
              "      <th>max_branch_order</th>\n",
              "      <th>max_euclidean_distance</th>\n",
              "      <th>max_path_distance</th>\n",
              "      <th>number_bifurcations</th>\n",
              "      <th>number_branches</th>\n",
              "      <th>number_nodes</th>\n",
              "      <th>number_stems</th>\n",
              "      <th>number_tips</th>\n",
              "    </tr>\n",
              "  </thead>\n",
              "  <tbody>\n",
              "    <tr>\n",
              "      <th>0</th>\n",
              "      <td>484775243</td>\n",
              "      <td>0.195628</td>\n",
              "      <td>90.3529</td>\n",
              "      <td>548.798070</td>\n",
              "      <td>257.109717</td>\n",
              "      <td>128.269219</td>\n",
              "      <td>3658.629571</td>\n",
              "      <td>2252.681880</td>\n",
              "      <td>115.626135</td>\n",
              "      <td>78.026948</td>\n",
              "      <td>...</td>\n",
              "      <td>48.081967</td>\n",
              "      <td>0.866582</td>\n",
              "      <td>7.0</td>\n",
              "      <td>476.921223</td>\n",
              "      <td>550.691106</td>\n",
              "      <td>31.0</td>\n",
              "      <td>70.0</td>\n",
              "      <td>3041.0</td>\n",
              "      <td>8.0</td>\n",
              "      <td>39.0</td>\n",
              "    </tr>\n",
              "    <tr>\n",
              "      <th>1</th>\n",
              "      <td>485996843</td>\n",
              "      <td>0.457635</td>\n",
              "      <td>87.0383</td>\n",
              "      <td>717.408343</td>\n",
              "      <td>199.214267</td>\n",
              "      <td>430.635072</td>\n",
              "      <td>4158.819949</td>\n",
              "      <td>5944.196007</td>\n",
              "      <td>730.014704</td>\n",
              "      <td>86.349668</td>\n",
              "      <td>...</td>\n",
              "      <td>52.416667</td>\n",
              "      <td>0.950502</td>\n",
              "      <td>15.0</td>\n",
              "      <td>650.637431</td>\n",
              "      <td>957.710930</td>\n",
              "      <td>30.0</td>\n",
              "      <td>67.0</td>\n",
              "      <td>3271.0</td>\n",
              "      <td>7.0</td>\n",
              "      <td>37.0</td>\n",
              "    </tr>\n",
              "    <tr>\n",
              "      <th>2</th>\n",
              "      <td>486041253</td>\n",
              "      <td>0.295455</td>\n",
              "      <td>75.3286</td>\n",
              "      <td>584.083922</td>\n",
              "      <td>386.076695</td>\n",
              "      <td>502.033948</td>\n",
              "      <td>2667.618389</td>\n",
              "      <td>2472.795020</td>\n",
              "      <td>197.063796</td>\n",
              "      <td>71.911353</td>\n",
              "      <td>...</td>\n",
              "      <td>73.821429</td>\n",
              "      <td>0.816243</td>\n",
              "      <td>5.0</td>\n",
              "      <td>477.440600</td>\n",
              "      <td>569.974920</td>\n",
              "      <td>14.0</td>\n",
              "      <td>32.0</td>\n",
              "      <td>2151.0</td>\n",
              "      <td>4.0</td>\n",
              "      <td>18.0</td>\n",
              "    </tr>\n",
              "    <tr>\n",
              "      <th>3</th>\n",
              "      <td>491119181</td>\n",
              "      <td>0.414033</td>\n",
              "      <td>89.0718</td>\n",
              "      <td>284.641670</td>\n",
              "      <td>239.492610</td>\n",
              "      <td>383.828302</td>\n",
              "      <td>1543.941010</td>\n",
              "      <td>2008.838025</td>\n",
              "      <td>237.466517</td>\n",
              "      <td>72.177287</td>\n",
              "      <td>...</td>\n",
              "      <td>42.266667</td>\n",
              "      <td>0.822614</td>\n",
              "      <td>4.0</td>\n",
              "      <td>212.448082</td>\n",
              "      <td>249.521471</td>\n",
              "      <td>16.0</td>\n",
              "      <td>35.0</td>\n",
              "      <td>1292.0</td>\n",
              "      <td>3.0</td>\n",
              "      <td>19.0</td>\n",
              "    </tr>\n",
              "    <tr>\n",
              "      <th>4</th>\n",
              "      <td>491119245</td>\n",
              "      <td>0.201323</td>\n",
              "      <td>44.5237</td>\n",
              "      <td>302.038542</td>\n",
              "      <td>323.493562</td>\n",
              "      <td>120.229052</td>\n",
              "      <td>1621.871325</td>\n",
              "      <td>1027.220686</td>\n",
              "      <td>54.521240</td>\n",
              "      <td>70.758367</td>\n",
              "      <td>...</td>\n",
              "      <td>39.733333</td>\n",
              "      <td>0.803137</td>\n",
              "      <td>3.0</td>\n",
              "      <td>242.351930</td>\n",
              "      <td>258.868561</td>\n",
              "      <td>15.0</td>\n",
              "      <td>36.0</td>\n",
              "      <td>1397.0</td>\n",
              "      <td>6.0</td>\n",
              "      <td>21.0</td>\n",
              "    </tr>\n",
              "  </tbody>\n",
              "</table>\n",
              "<p>5 rows × 21 columns</p>\n",
              "</div>"
            ],
            "text/plain": [
              "          id  average_diameter  overall_depth  overall_height  overall_width  \\\n",
              "0  484775243          0.195628        90.3529      548.798070     257.109717   \n",
              "1  485996843          0.457635        87.0383      717.408343     199.214267   \n",
              "2  486041253          0.295455        75.3286      584.083922     386.076695   \n",
              "3  491119181          0.414033        89.0718      284.641670     239.492610   \n",
              "4  491119245          0.201323        44.5237      302.038542     323.493562   \n",
              "\n",
              "   soma_surface  total_length  total_surface  total_volume  \\\n",
              "0    128.269219   3658.629571    2252.681880    115.626135   \n",
              "1    430.635072   4158.819949    5944.196007    730.014704   \n",
              "2    502.033948   2667.618389    2472.795020    197.063796   \n",
              "3    383.828302   1543.941010    2008.838025    237.466517   \n",
              "4    120.229052   1621.871325    1027.220686     54.521240   \n",
              "\n",
              "   average_bifurcation_angle_local  ...  average_fragmentation  \\\n",
              "0                        78.026948  ...              48.081967   \n",
              "1                        86.349668  ...              52.416667   \n",
              "2                        71.911353  ...              73.821429   \n",
              "3                        72.177287  ...              42.266667   \n",
              "4                        70.758367  ...              39.733333   \n",
              "\n",
              "   average_parent_daughter_ratio  max_branch_order  max_euclidean_distance  \\\n",
              "0                       0.866582               7.0              476.921223   \n",
              "1                       0.950502              15.0              650.637431   \n",
              "2                       0.816243               5.0              477.440600   \n",
              "3                       0.822614               4.0              212.448082   \n",
              "4                       0.803137               3.0              242.351930   \n",
              "\n",
              "   max_path_distance  number_bifurcations  number_branches  number_nodes  \\\n",
              "0         550.691106                 31.0             70.0        3041.0   \n",
              "1         957.710930                 30.0             67.0        3271.0   \n",
              "2         569.974920                 14.0             32.0        2151.0   \n",
              "3         249.521471                 16.0             35.0        1292.0   \n",
              "4         258.868561                 15.0             36.0        1397.0   \n",
              "\n",
              "   number_stems  number_tips  \n",
              "0           8.0         39.0  \n",
              "1           7.0         37.0  \n",
              "2           4.0         18.0  \n",
              "3           3.0         19.0  \n",
              "4           6.0         21.0  \n",
              "\n",
              "[5 rows x 21 columns]"
            ]
          },
          "execution_count": 248,
          "metadata": {},
          "output_type": "execute_result"
        }
      ],
      "source": [
        "data.head()"
      ]
    },
    {
      "cell_type": "code",
      "execution_count": null,
      "id": "0ce34525",
      "metadata": {
        "id": "0ce34525",
        "outputId": "6acb0a4d-bd13-4e4d-b72f-dc97a0018b54"
      },
      "outputs": [
        {
          "name": "stdout",
          "output_type": "stream",
          "text": [
            "(701, 21)\n"
          ]
        }
      ],
      "source": [
        "print(data.shape)"
      ]
    },
    {
      "cell_type": "markdown",
      "id": "9215b85a",
      "metadata": {
        "id": "9215b85a"
      },
      "source": [
        "Final merged dataset contains 701 observations and 21 columns."
      ]
    },
    {
      "cell_type": "markdown",
      "id": "b5ca2b74",
      "metadata": {
        "id": "b5ca2b74"
      },
      "source": [
        "**(b) Comment on the dimensions of the combined dataset. Are all of the neurons from\n",
        "group 1 and 2 included in the dataset neurons additional measurements.csv?**"
      ]
    },
    {
      "cell_type": "code",
      "execution_count": null,
      "id": "b41cdd6d",
      "metadata": {
        "id": "b41cdd6d",
        "outputId": "c1ff6c6f-1f57-4c89-d6b1-523b424367f1"
      },
      "outputs": [
        {
          "data": {
            "text/plain": [
              "(701, 21)"
            ]
          },
          "execution_count": 250,
          "metadata": {},
          "output_type": "execute_result"
        }
      ],
      "source": [
        "data.shape"
      ]
    },
    {
      "cell_type": "markdown",
      "id": "25563969",
      "metadata": {
        "id": "25563969"
      },
      "source": [
        "No of rows in combined dataset is 701.\n",
        "\n",
        "No of columns in combined dataset is 21."
      ]
    },
    {
      "cell_type": "code",
      "execution_count": null,
      "id": "ccc99837",
      "metadata": {
        "id": "ccc99837",
        "outputId": "ad1800db-b18b-4ac9-b84e-13e6c704751f"
      },
      "outputs": [
        {
          "data": {
            "text/plain": [
              "306.0"
            ]
          },
          "execution_count": 251,
          "metadata": {},
          "output_type": "execute_result"
        }
      ],
      "source": [
        "val1 = group1['id'].map(neurons_add['id'].value_counts()).fillna(0)\n",
        "sum(val1)"
      ]
    },
    {
      "cell_type": "markdown",
      "id": "18c5f586",
      "metadata": {
        "id": "18c5f586"
      },
      "source": [
        "Out of 311 neurons in group1 dataset, only 306 neurons are included in neurons additional measurements.csv"
      ]
    },
    {
      "cell_type": "code",
      "execution_count": null,
      "id": "4759007e",
      "metadata": {
        "id": "4759007e",
        "outputId": "d11449db-67fc-4df7-cfdd-5c2f4d7fd05b"
      },
      "outputs": [
        {
          "data": {
            "text/plain": [
              "388.0"
            ]
          },
          "execution_count": 252,
          "metadata": {},
          "output_type": "execute_result"
        }
      ],
      "source": [
        "val2 = group2['id'].map(neurons_add['id'].value_counts()).fillna(0)\n",
        "sum(val2)"
      ]
    },
    {
      "cell_type": "markdown",
      "id": "9b05d9f8",
      "metadata": {
        "id": "9b05d9f8"
      },
      "source": [
        "Out of 390 neurons in group 2, 388 neurons data is included in neurons additional measurements.csv"
      ]
    },
    {
      "cell_type": "markdown",
      "id": "f8f1e346",
      "metadata": {
        "id": "f8f1e346"
      },
      "source": [
        "**(c) Compute the Pearson correlation coefficient between each of the measurements and identify which morphological features are strongly correlated. List the four most strongly correlated pairs.**"
      ]
    },
    {
      "cell_type": "markdown",
      "id": "a2a40d45",
      "metadata": {
        "id": "a2a40d45"
      },
      "source": [
        "Before computing Pearson coefficient, check if new merged datset contains null values."
      ]
    },
    {
      "cell_type": "code",
      "execution_count": null,
      "id": "a4221703",
      "metadata": {
        "id": "a4221703",
        "outputId": "4c2ef7f0-00d8-48d3-963b-3fe3394dad55"
      },
      "outputs": [
        {
          "data": {
            "text/plain": [
              "id                                 0\n",
              "average_diameter                   0\n",
              "overall_depth                      0\n",
              "overall_height                     0\n",
              "overall_width                      0\n",
              "soma_surface                       0\n",
              "total_length                       0\n",
              "total_surface                      0\n",
              "total_volume                       0\n",
              "average_bifurcation_angle_local    7\n",
              "average_contraction                7\n",
              "average_fragmentation              7\n",
              "average_parent_daughter_ratio      7\n",
              "max_branch_order                   7\n",
              "max_euclidean_distance             7\n",
              "max_path_distance                  7\n",
              "number_bifurcations                7\n",
              "number_branches                    7\n",
              "number_nodes                       7\n",
              "number_stems                       7\n",
              "number_tips                        7\n",
              "dtype: int64"
            ]
          },
          "execution_count": 253,
          "metadata": {},
          "output_type": "execute_result"
        }
      ],
      "source": [
        "# To check if merged dataset contains na values\n",
        "data.isna().sum()"
      ]
    },
    {
      "cell_type": "markdown",
      "id": "417e6fb4",
      "metadata": {
        "id": "417e6fb4"
      },
      "source": [
        "Some measurements contains null values.\n",
        "\n",
        "In order to not lose some observations, fill na values with mean of the measurement."
      ]
    },
    {
      "cell_type": "code",
      "execution_count": null,
      "id": "6a270423",
      "metadata": {
        "id": "6a270423"
      },
      "outputs": [],
      "source": [
        "## Fill na values with mean of that column\n",
        "data = data.fillna(data.mean())"
      ]
    },
    {
      "cell_type": "code",
      "execution_count": null,
      "id": "03ffb02e",
      "metadata": {
        "id": "03ffb02e",
        "outputId": "44655177-df93-49a9-8449-6dc10a0b8663"
      },
      "outputs": [
        {
          "data": {
            "text/plain": [
              "(701, 21)"
            ]
          },
          "execution_count": 255,
          "metadata": {},
          "output_type": "execute_result"
        }
      ],
      "source": [
        "data.shape"
      ]
    },
    {
      "cell_type": "markdown",
      "id": "4722fdd8",
      "metadata": {
        "id": "4722fdd8"
      },
      "source": [
        "The dataset contains the same number of observations"
      ]
    },
    {
      "cell_type": "code",
      "execution_count": null,
      "id": "eca08607",
      "metadata": {
        "id": "eca08607",
        "outputId": "7f80ae3b-cacc-4aa2-8633-c26e8fdfbdb6"
      },
      "outputs": [
        {
          "name": "stdout",
          "output_type": "stream",
          "text": [
            "Top most strongly correlated pairs are:\n",
            " number_branches      number_tips            0.998230\n",
            "number_tips          number_branches        0.998230\n",
            "number_branches      number_bifurcations    0.997993\n",
            "number_bifurcations  number_branches        0.997993\n",
            "total_length         number_nodes           0.996768\n",
            "number_nodes         total_length           0.996768\n",
            "number_tips          number_bifurcations    0.992465\n",
            "number_bifurcations  number_tips            0.992465\n",
            "dtype: float64\n"
          ]
        }
      ],
      "source": [
        "co = data.corr(method='pearson')\n",
        "s = co.abs().unstack()\n",
        "so = s.sort_values(ascending=False) ## Sort values in descending order\n",
        "print(\"Top most strongly correlated pairs are:\\n\",so[21:29]) ## Same name variables with corr =1 needs to be skipped.\n"
      ]
    },
    {
      "cell_type": "markdown",
      "id": "b124ca88",
      "metadata": {
        "id": "b124ca88"
      },
      "source": [
        "Since the dataset is merged, therefore same name variables of both datasets will be skipped.\n",
        "\n",
        "**Top 4 most strongly connected pairs are:**\n",
        "\n",
        "1. Total length - number of nodes\n",
        "2. number_branches - number tips\n",
        "3. nummber branches - number bifurcations\n",
        "4. number tips - number bifurcations"
      ]
    },
    {
      "cell_type": "markdown",
      "id": "f73e04a4",
      "metadata": {
        "id": "f73e04a4"
      },
      "source": [
        "**(d) Create scatter plots for the each of the strongly correlated pairs identified in (c). Are the relationships as expected from the correlation coefficients?**"
      ]
    },
    {
      "cell_type": "code",
      "execution_count": null,
      "id": "532232a9",
      "metadata": {
        "id": "532232a9",
        "outputId": "64a7998e-67e4-4e29-f345-57b43bf7f5bc"
      },
      "outputs": [
        {
          "data": {
            "text/plain": [
              "Text(0, 0.5, 'Number Nodes')"
            ]
          },
          "execution_count": 257,
          "metadata": {},
          "output_type": "execute_result"
        },
        {
          "data": {
            "image/png": "[encoded data removed]",
            "text/plain": [
              "<Figure size 2000x1200 with 4 Axes>"
            ]
          },
          "metadata": {},
          "output_type": "display_data"
        }
      ],
      "source": [
        "fig = plt.figure(figsize=(20,12))\n",
        "plt.subplot(2,3,1)\n",
        "plt.scatter(data.total_length,data.number_nodes)\n",
        "plt.xlabel('Total Length',fontsize=10)\n",
        "plt.ylabel('Number Nodes',fontsize=10)\n",
        "\n",
        "plt.subplot(2,3,2)\n",
        "plt.scatter(data.number_branches,data.number_tips)\n",
        "plt.xlabel('Number branches',fontsize=10)\n",
        "plt.ylabel('Number tips',fontsize=10)\n",
        "\n",
        "plt.subplot(2,3,3)\n",
        "plt.scatter(data.number_branches,data.number_bifurcations)\n",
        "plt.xlabel('Number branches',fontsize=10)\n",
        "plt.ylabel('Number bifurcations',fontsize=10)\n",
        "\n",
        "plt.subplot(2,3,4)\n",
        "plt.scatter(data.number_tips,data.number_bifurcations)\n",
        "plt.xlabel('Number tips',fontsize=10)\n",
        "plt.ylabel('Number Nodes',fontsize=10)\n",
        "\n"
      ]
    },
    {
      "cell_type": "markdown",
      "id": "7fa85c9f",
      "metadata": {
        "id": "7fa85c9f"
      },
      "source": [
        "1. Above Measurements, are, as expected from the correlation coefficient, are highly correlated to each other. \n",
        "2. Scatter points of these pairs are highly concentrated indicating highest level of correlation.\n",
        "3. These pairs have same value of outlier as well. "
      ]
    },
    {
      "cell_type": "markdown",
      "id": "cad61592",
      "metadata": {
        "id": "cad61592"
      },
      "source": [
        "**Question 4**\n",
        "\n",
        "**Linear regression to predict the total surface area of a neuron (total surface).\n",
        "(Remaining morphological measurements to be used as predictor variables.)**\n",
        "\n",
        "**(a) Separate the data into response and predictor variables and standardise the predictor variables.**"
      ]
    },
    {
      "cell_type": "code",
      "execution_count": null,
      "id": "e8d36d3b",
      "metadata": {
        "id": "e8d36d3b"
      },
      "outputs": [],
      "source": [
        "# Drop the response variable total surface and id of neurons into predictor variables X.\n",
        "X = data.drop(['id','total_surface'],axis=1)\n",
        "\n",
        "#Standardise the predictor variables\n",
        "X_std = (X - X.mean())/X.std()\n",
        "\n",
        "#Response variable\n",
        "Y = data['total_surface']"
      ]
    },
    {
      "cell_type": "markdown",
      "id": "4e2a21b6",
      "metadata": {
        "id": "4e2a21b6"
      },
      "source": [
        "**(b) Fit a linear regression model and interpret the fitted model.**"
      ]
    },
    {
      "cell_type": "code",
      "execution_count": null,
      "id": "b0289123",
      "metadata": {
        "id": "b0289123"
      },
      "outputs": [],
      "source": [
        "# Import required packages\n",
        "from sklearn.model_selection import train_test_split\n",
        "from sklearn import metrics\n",
        "from sklearn.metrics import r2_score\n",
        "\n",
        "#Split the dataset into train and test\n",
        "X_train, X_test, y_train, y_test = train_test_split(X_std, Y, test_size=0.20)"
      ]
    },
    {
      "cell_type": "markdown",
      "id": "0f8cd15f",
      "metadata": {
        "id": "0f8cd15f"
      },
      "source": [
        "Train dataset contains 80% observations\n",
        "\n",
        "Test set contains 20% observations"
      ]
    },
    {
      "cell_type": "code",
      "execution_count": null,
      "id": "0c0b2db5",
      "metadata": {
        "id": "0c0b2db5",
        "outputId": "3a8dd67f-442d-4fc3-ce39-77a9b63e1606"
      },
      "outputs": [
        {
          "data": {
            "text/html": [
              "<style>#sk-container-id-3 {color: black;background-color: white;}#sk-container-id-3 pre{padding: 0;}#sk-container-id-3 div.sk-toggleable {background-color: white;}#sk-container-id-3 label.sk-toggleable__label {cursor: pointer;display: block;width: 100%;margin-bottom: 0;padding: 0.3em;box-sizing: border-box;text-align: center;}#sk-container-id-3 label.sk-toggleable__label-arrow:before {content: \"▸\";float: left;margin-right: 0.25em;color: #696969;}#sk-container-id-3 label.sk-toggleable__label-arrow:hover:before {color: black;}#sk-container-id-3 div.sk-estimator:hover label.sk-toggleable__label-arrow:before {color: black;}#sk-container-id-3 div.sk-toggleable__content {max-height: 0;max-width: 0;overflow: hidden;text-align: left;background-color: #f0f8ff;}#sk-container-id-3 div.sk-toggleable__content pre {margin: 0.2em;color: black;border-radius: 0.25em;background-color: #f0f8ff;}#sk-container-id-3 input.sk-toggleable__control:checked~div.sk-toggleable__content {max-height: 200px;max-width: 100%;overflow: auto;}#sk-container-id-3 input.sk-toggleable__control:checked~label.sk-toggleable__label-arrow:before {content: \"▾\";}#sk-container-id-3 div.sk-estimator input.sk-toggleable__control:checked~label.sk-toggleable__label {background-color: #d4ebff;}#sk-container-id-3 div.sk-label input.sk-toggleable__control:checked~label.sk-toggleable__label {background-color: #d4ebff;}#sk-container-id-3 input.sk-hidden--visually {border: 0;clip: rect(1px 1px 1px 1px);clip: rect(1px, 1px, 1px, 1px);height: 1px;margin: -1px;overflow: hidden;padding: 0;position: absolute;width: 1px;}#sk-container-id-3 div.sk-estimator {font-family: monospace;background-color: #f0f8ff;border: 1px dotted black;border-radius: 0.25em;box-sizing: border-box;margin-bottom: 0.5em;}#sk-container-id-3 div.sk-estimator:hover {background-color: #d4ebff;}#sk-container-id-3 div.sk-parallel-item::after {content: \"\";width: 100%;border-bottom: 1px solid gray;flex-grow: 1;}#sk-container-id-3 div.sk-label:hover label.sk-toggleable__label {background-color: #d4ebff;}#sk-container-id-3 div.sk-serial::before {content: \"\";position: absolute;border-left: 1px solid gray;box-sizing: border-box;top: 0;bottom: 0;left: 50%;z-index: 0;}#sk-container-id-3 div.sk-serial {display: flex;flex-direction: column;align-items: center;background-color: white;padding-right: 0.2em;padding-left: 0.2em;position: relative;}#sk-container-id-3 div.sk-item {position: relative;z-index: 1;}#sk-container-id-3 div.sk-parallel {display: flex;align-items: stretch;justify-content: center;background-color: white;position: relative;}#sk-container-id-3 div.sk-item::before, #sk-container-id-3 div.sk-parallel-item::before {content: \"\";position: absolute;border-left: 1px solid gray;box-sizing: border-box;top: 0;bottom: 0;left: 50%;z-index: -1;}#sk-container-id-3 div.sk-parallel-item {display: flex;flex-direction: column;z-index: 1;position: relative;background-color: white;}#sk-container-id-3 div.sk-parallel-item:first-child::after {align-self: flex-end;width: 50%;}#sk-container-id-3 div.sk-parallel-item:last-child::after {align-self: flex-start;width: 50%;}#sk-container-id-3 div.sk-parallel-item:only-child::after {width: 0;}#sk-container-id-3 div.sk-dashed-wrapped {border: 1px dashed gray;margin: 0 0.4em 0.5em 0.4em;box-sizing: border-box;padding-bottom: 0.4em;background-color: white;}#sk-container-id-3 div.sk-label label {font-family: monospace;font-weight: bold;display: inline-block;line-height: 1.2em;}#sk-container-id-3 div.sk-label-container {text-align: center;}#sk-container-id-3 div.sk-container {/* jupyter's `normalize.less` sets `[hidden] { display: none; }` but bootstrap.min.css set `[hidden] { display: none !important; }` so we also need the `!important` here to be able to override the default hidden behavior on the sphinx rendered scikit-learn.org. See: https://github.com/scikit-learn/scikit-learn/issues/21755 */display: inline-block !important;position: relative;}#sk-container-id-3 div.sk-text-repr-fallback {display: none;}</style><div id=\"sk-container-id-3\" class=\"sk-top-container\"><div class=\"sk-text-repr-fallback\"><pre>LinearRegression()</pre><b>In a Jupyter environment, please rerun this cell to show the HTML representation or trust the notebook. <br />On GitHub, the HTML representation is unable to render, please try loading this page with nbviewer.org.</b></div><div class=\"sk-container\" hidden><div class=\"sk-item\"><div class=\"sk-estimator sk-toggleable\"><input class=\"sk-toggleable__control sk-hidden--visually\" id=\"sk-estimator-id-3\" type=\"checkbox\" checked><label for=\"sk-estimator-id-3\" class=\"sk-toggleable__label sk-toggleable__label-arrow\">LinearRegression</label><div class=\"sk-toggleable__content\"><pre>LinearRegression()</pre></div></div></div></div></div>"
            ],
            "text/plain": [
              "LinearRegression()"
            ]
          },
          "execution_count": 260,
          "metadata": {},
          "output_type": "execute_result"
        }
      ],
      "source": [
        "from sklearn import linear_model\n",
        "\n",
        "#Model fit\n",
        "reg = linear_model.LinearRegression()\n",
        "reg.fit(X_train,y_train)"
      ]
    },
    {
      "cell_type": "markdown",
      "id": "0f9337b2",
      "metadata": {
        "id": "0f9337b2"
      },
      "source": [
        "The important part of model fitting is generating intercept and coefficient. The intercept and coefficient allow us to fit an equation for linear regression and then predictions on test dataset.\n",
        "\n",
        "The equation of linear regression is as below:\n",
        "\n",
        "Y = b0 + b1Xi\n",
        "\n",
        "Where,\n",
        "\n",
        "Y -  Response variable\n",
        "\n",
        "b0- Intercept (weight predicted by the model). It is often referred to as the mean value of the target variable (Y) when the regressor is zero (X = 0).\n",
        "\n",
        "b1 - Regression coefficient or slope (again a predicted weight by model).\n",
        "\n",
        "Xi - Multiple Predictor variables that helps in predicting the target."
      ]
    },
    {
      "cell_type": "code",
      "execution_count": null,
      "id": "877fc398",
      "metadata": {
        "id": "877fc398",
        "outputId": "8da3f41d-c398-4173-c989-a61c3922385a"
      },
      "outputs": [
        {
          "data": {
            "text/plain": [
              "array([ 6.86143672e+02, -1.12155896e+02, -1.59523871e+02,  1.46804455e+01,\n",
              "        8.41103180e+01,  3.47089784e+03,  2.99618357e+03, -2.10700657e+01,\n",
              "        3.03869448e+01, -9.63127834e+01,  5.15177664e+01,  8.64034829e-01,\n",
              "        5.00441071e+02, -3.58845982e+02, -3.40072837e+03,  1.73740080e+03,\n",
              "       -4.38269685e+02, -4.17919027e+02,  1.65914420e+03])"
            ]
          },
          "execution_count": 261,
          "metadata": {},
          "output_type": "execute_result"
        }
      ],
      "source": [
        "## Regression coefficients\n",
        "reg.coef_"
      ]
    },
    {
      "cell_type": "markdown",
      "id": "a128287e",
      "metadata": {
        "id": "a128287e"
      },
      "source": [
        "Above code gives the b0 values."
      ]
    },
    {
      "cell_type": "code",
      "execution_count": null,
      "id": "53e3380a",
      "metadata": {
        "id": "53e3380a",
        "outputId": "46a51374-3b93-4123-a510-2283cb67ebf5"
      },
      "outputs": [
        {
          "data": {
            "text/plain": [
              "5688.630518245201"
            ]
          },
          "execution_count": 262,
          "metadata": {},
          "output_type": "execute_result"
        }
      ],
      "source": [
        "# Intercept value of regression model\n",
        "reg.intercept_"
      ]
    },
    {
      "cell_type": "markdown",
      "id": "fe7e3bb4",
      "metadata": {
        "id": "fe7e3bb4"
      },
      "source": [
        "b1 = 5697.232"
      ]
    },
    {
      "cell_type": "code",
      "execution_count": null,
      "id": "84cc9f55",
      "metadata": {
        "id": "84cc9f55",
        "outputId": "091377c8-a009-4db3-e1d1-958af5c5d35a"
      },
      "outputs": [
        {
          "data": {
            "text/plain": [
              "0.990079491092529"
            ]
          },
          "execution_count": 263,
          "metadata": {},
          "output_type": "execute_result"
        }
      ],
      "source": [
        "# R-sqaured score\n",
        "r2_score(y_test, y_pred = reg.predict(X_test))"
      ]
    },
    {
      "cell_type": "markdown",
      "id": "d1b87fb9",
      "metadata": {
        "id": "d1b87fb9"
      },
      "source": [
        "The coefficient of determination, denoted as r-square, tells you which amount of variation in Y can be explained by the dependence on X, using the particular regression model. A larger R-sq indicates a better fit and means that the model can better explain the variation of the output with different inputs.\n",
        "\n",
        "Here R2 score is 0.99 which means the model is better fitted and can give better output with new set of values."
      ]
    },
    {
      "cell_type": "markdown",
      "id": "d1dc8962",
      "metadata": {
        "id": "d1dc8962"
      },
      "source": [
        "**(c) Perform a forward selection Akaike Information Criterion (AIC) regression. Exam- ine the selected model and discuss your findings in relation to the model fitted in part (b)**"
      ]
    },
    {
      "cell_type": "code",
      "execution_count": null,
      "id": "8b9a935b",
      "metadata": {
        "id": "8b9a935b"
      },
      "outputs": [],
      "source": [
        "#Import the required model\n",
        "import statsmodels.api as sm"
      ]
    },
    {
      "cell_type": "markdown",
      "id": "69873507",
      "metadata": {
        "id": "69873507"
      },
      "source": [
        "The Akaike information criterion (AIC) is a mathematical method for evaluating how well a model fits the data it was generated from. In statistics, AIC is used to compare different possible models and determine which one is the best fit for the data."
      ]
    },
    {
      "cell_type": "code",
      "execution_count": null,
      "id": "a31c73e1",
      "metadata": {
        "id": "a31c73e1"
      },
      "outputs": [],
      "source": [
        "def forwardAIC(X,y):\n",
        "    mod = sm.OLS(y, X.iloc[:,0]).fit() # Start with first variable\n",
        "    best_aic = mod.aic                 # import the aic function \n",
        "    bad_model = True                   \n",
        "    chosen_vars = [0]                  #Initially no variable is chosen, hence it is zero\n",
        "    remaining_vars = range(1,X.shape[1]) # rest of the variable\n",
        "    while(bad_model):\n",
        "        curr_aic = np.empty(len(remaining_vars))\n",
        "        curr_aic_diff = np.empty(len(remaining_vars))\n",
        "        for count, i in enumerate(remaining_vars):        #Run AIC model on rest of the variables\n",
        "            curr_vars = np.append(chosen_vars,i)          #Store the current variable\n",
        "            curr_mod = sm.OLS(y, X.iloc[:,curr_vars]).fit() #Run the model\n",
        "            curr_aic[count] = curr_mod.aic                  #Current variable aic \n",
        "            curr_aic_diff[count] = curr_mod.aic - best_aic  #Include the variable that decreases the AIC the most\n",
        "        if len(remaining_vars)==0: # If no variables are left\n",
        "            bad_model=False\n",
        "        elif np.min(curr_aic_diff)>0:\n",
        "            bad_model = False\n",
        "        else:\n",
        "            best_var = remaining_vars[np.argmin(curr_aic_diff)]  #Finding variable that decreases the AIC the most\n",
        "            best_aic = curr_aic[np.argmin(curr_aic_diff)]        #Storing the aic value\n",
        "            chosen_vars = np.append(chosen_vars,best_var)        \n",
        "            remaining_vars = [x for x in remaining_vars if x != best_var]\n",
        "    return chosen_vars # returns best aic variables\n",
        "    \n"
      ]
    },
    {
      "cell_type": "code",
      "execution_count": null,
      "id": "6e3f3019",
      "metadata": {
        "id": "6e3f3019",
        "outputId": "9303d092-8e4a-4cb8-d004-1f3911805661"
      },
      "outputs": [
        {
          "name": "stdout",
          "output_type": "stream",
          "text": [
            "                                 OLS Regression Results                                \n",
            "=======================================================================================\n",
            "Dep. Variable:          total_surface   R-squared (uncentered):                   0.992\n",
            "Model:                            OLS   Adj. R-squared (uncentered):              0.992\n",
            "Method:                 Least Squares   F-statistic:                          2.748e+04\n",
            "Date:                Sun, 11 Dec 2022   Prob (F-statistic):                        0.00\n",
            "Time:                        16:35:30   Log-Likelihood:                         -5642.3\n",
            "No. Observations:                 701   AIC:                                  1.129e+04\n",
            "Df Residuals:                     698   BIC:                                  1.130e+04\n",
            "Df Model:                           3                                                  \n",
            "Covariance Type:            nonrobust                                                  \n",
            "====================================================================================\n",
            "                       coef    std err          t      P>|t|      [0.025      0.975]\n",
            "------------------------------------------------------------------------------------\n",
            "average_diameter   524.6093    112.249      4.674      0.000     304.223     744.996\n",
            "total_length         0.8110      0.014     58.630      0.000       0.784       0.838\n",
            "total_volume         2.8832      0.033     88.651      0.000       2.819       2.947\n",
            "==============================================================================\n",
            "Omnibus:                      362.205   Durbin-Watson:                   1.590\n",
            "Prob(Omnibus):                  0.000   Jarque-Bera (JB):             5791.508\n",
            "Skew:                          -1.924   Prob(JB):                         0.00\n",
            "Kurtosis:                      16.545   Cond. No.                     1.93e+04\n",
            "==============================================================================\n",
            "\n",
            "Notes:\n",
            "[1] R² is computed without centering (uncentered) since the model does not contain a constant.\n",
            "[2] Standard Errors assume that the covariance matrix of the errors is correctly specified.\n",
            "[3] The condition number is large, 1.93e+04. This might indicate that there are\n",
            "strong multicollinearity or other numerical problems.\n"
          ]
        }
      ],
      "source": [
        "ans1 = forwardAIC(X_std,Y)\n",
        "mod1 = sm.OLS(Y, X.iloc[:,ans1])\n",
        "res1 = mod1.fit()\n",
        "print(res1.summary())"
      ]
    },
    {
      "cell_type": "markdown",
      "id": "2258d339",
      "metadata": {
        "id": "2258d339"
      },
      "source": [
        "R-squared value of AIC model is 0.99 which is equal to regression model.\n",
        "\n",
        "Standard error in AIC for variables total_length, total_volume and average_diameter is 0.014, 0.033 and 112.249 respectively.\n",
        "\n"
      ]
    },
    {
      "cell_type": "markdown",
      "id": "65e9c23e",
      "metadata": {
        "id": "65e9c23e"
      },
      "source": [
        "**(d) Perform a forward selection Bayes Information Criterion (BIC) regression. Examine the selected model and discuss your findings in relation to the models fitted in part (b) and (c).**"
      ]
    },
    {
      "cell_type": "markdown",
      "id": "7ab4e638",
      "metadata": {
        "id": "7ab4e638"
      },
      "source": [
        "Bayesian information criterion (BIC) is another criteria for model selection that measures the trade-off between model fit and complexity of the mode."
      ]
    },
    {
      "cell_type": "code",
      "execution_count": null,
      "id": "a4138e15",
      "metadata": {
        "id": "a4138e15"
      },
      "outputs": [],
      "source": [
        "def forwardBIC(X,y):\n",
        "    mod = sm.OLS(y, X.iloc[:,0]).fit()\n",
        "    best_bic = mod.bic\n",
        "    bad_model = True\n",
        "    chosen_vars = [0]\n",
        "    remaining_vars = range(1,X.shape[1])\n",
        "    while(bad_model):\n",
        "        curr_bic = np.empty(len(remaining_vars))\n",
        "        curr_bic_diff = np.empty(len(remaining_vars))\n",
        "        for count, i in enumerate(remaining_vars):\n",
        "            curr_vars = np.append(chosen_vars,i)\n",
        "            curr_mod = sm.OLS(y, X.iloc[:,curr_vars]).fit()\n",
        "            curr_bic[count] = curr_mod.bic\n",
        "            curr_bic_diff[count] = curr_mod.bic - best_bic\n",
        "        if len(remaining_vars)==0:\n",
        "            bad_model=False\n",
        "        elif np.min(curr_bic_diff)>0:\n",
        "            bad_model = False\n",
        "        else:\n",
        "            best_var = remaining_vars[np.argmin(curr_bic_diff)]\n",
        "            best_bic = curr_bic[np.argmin(curr_bic_diff)]\n",
        "            chosen_vars = np.append(chosen_vars,best_var)\n",
        "            remaining_vars = [x for x in remaining_vars if x != best_var]\n",
        "    return chosen_vars\n",
        "\n"
      ]
    },
    {
      "cell_type": "code",
      "execution_count": null,
      "id": "b3393ddf",
      "metadata": {
        "id": "b3393ddf",
        "outputId": "4c4b0e78-d0c2-4969-9447-cc4424eb3a6c"
      },
      "outputs": [
        {
          "name": "stdout",
          "output_type": "stream",
          "text": [
            "                                 OLS Regression Results                                \n",
            "=======================================================================================\n",
            "Dep. Variable:          total_surface   R-squared (uncentered):                   0.992\n",
            "Model:                            OLS   Adj. R-squared (uncentered):              0.992\n",
            "Method:                 Least Squares   F-statistic:                          2.748e+04\n",
            "Date:                Sun, 11 Dec 2022   Prob (F-statistic):                        0.00\n",
            "Time:                        16:35:45   Log-Likelihood:                         -5642.3\n",
            "No. Observations:                 701   AIC:                                  1.129e+04\n",
            "Df Residuals:                     698   BIC:                                  1.130e+04\n",
            "Df Model:                           3                                                  \n",
            "Covariance Type:            nonrobust                                                  \n",
            "====================================================================================\n",
            "                       coef    std err          t      P>|t|      [0.025      0.975]\n",
            "------------------------------------------------------------------------------------\n",
            "average_diameter   524.6093    112.249      4.674      0.000     304.223     744.996\n",
            "total_length         0.8110      0.014     58.630      0.000       0.784       0.838\n",
            "total_volume         2.8832      0.033     88.651      0.000       2.819       2.947\n",
            "==============================================================================\n",
            "Omnibus:                      362.205   Durbin-Watson:                   1.590\n",
            "Prob(Omnibus):                  0.000   Jarque-Bera (JB):             5791.508\n",
            "Skew:                          -1.924   Prob(JB):                         0.00\n",
            "Kurtosis:                      16.545   Cond. No.                     1.93e+04\n",
            "==============================================================================\n",
            "\n",
            "Notes:\n",
            "[1] R² is computed without centering (uncentered) since the model does not contain a constant.\n",
            "[2] Standard Errors assume that the covariance matrix of the errors is correctly specified.\n",
            "[3] The condition number is large, 1.93e+04. This might indicate that there are\n",
            "strong multicollinearity or other numerical problems.\n"
          ]
        }
      ],
      "source": [
        "ans2 = forwardBIC(X_std,Y)\n",
        "mod2 = sm.OLS(Y, X.iloc[:,ans2])\n",
        "res2 = mod2.fit()\n",
        "print(res2.summary())"
      ]
    },
    {
      "cell_type": "markdown",
      "id": "0960f4cb",
      "metadata": {
        "id": "0960f4cb"
      },
      "source": [
        "R-squared value of BIC model is 0.99 which is equal to regression model.\n",
        "\n",
        "Standard error in BIC for variables total_length, total_volume and average_diameter is 0.014, 0.033 and 112.249 respectively.\n",
        "\n"
      ]
    },
    {
      "cell_type": "markdown",
      "id": "f190a5dd",
      "metadata": {
        "id": "f190a5dd"
      },
      "source": [
        "**(e) Explain how using BIC for model selection differs from using AIC.**"
      ]
    },
    {
      "cell_type": "markdown",
      "id": "d4bd7067",
      "metadata": {
        "id": "d4bd7067"
      },
      "source": [
        "The Bayesian Information Criterion (BIC) is more useful in selecting a correct model while the AIC is more appropriate in finding the best model for predicting future observations.\n",
        "\n",
        "In this case, AIC and BIC differs with a high variance.\n",
        "\n",
        "The AIC can be termed as a mesaure of the goodness of fit of any estimated statistical model. The BIC is a type of model selection among a class of parametric models with different numbers of parameters.\n",
        "\n",
        "Unlike the AIC, the BIC penalizes free parameters more strongly.\n",
        "\n",
        "When Akaike’s Information Criteria will present the danger that it would outfit. the Bayesian Information Criteria will present the danger that it would underfit. Though BIC is more tolerant when compared to AIC, it shows less tolerance at higher numbers.\n"
      ]
    },
    {
      "cell_type": "markdown",
      "id": "4865259f",
      "metadata": {
        "id": "4865259f"
      },
      "source": [
        "**Question 5**\n",
        "\n",
        "**Random forest regression to predict the total surface area of a neuron (total surface).\n",
        "(Remaining morphological measurements to be used as predictor variables.)**\n",
        "\n",
        "**(a) Split the data into appropriate training and test sets.**"
      ]
    },
    {
      "cell_type": "code",
      "execution_count": null,
      "id": "1c0b42dc",
      "metadata": {
        "id": "1c0b42dc"
      },
      "outputs": [],
      "source": [
        "X_train1, X_test1, y_train1, y_test1 = train_test_split(X, Y, test_size=0.20)"
      ]
    },
    {
      "cell_type": "markdown",
      "id": "1e45b9ee",
      "metadata": {
        "id": "1e45b9ee"
      },
      "source": [
        "Train dataset contains 80% observations\n",
        "\n",
        "Test set contains 20% observations"
      ]
    },
    {
      "cell_type": "markdown",
      "id": "d37eb40c",
      "metadata": {
        "id": "d37eb40c"
      },
      "source": [
        "**(b) Fit a random forest regression model with 10 trees using the training data. Include the argument random state=101 in the random forest regression function to ensure reproducible results. Determine which variables are most important in predicting the total surface area of a neuron. Discuss your findings in relation to the linear models fit in question 4**"
      ]
    },
    {
      "cell_type": "code",
      "execution_count": null,
      "id": "88890699",
      "metadata": {
        "id": "88890699",
        "outputId": "fef7026a-a92e-4b1c-c033-1563794625c3"
      },
      "outputs": [
        {
          "data": {
            "text/html": [
              "<style>#sk-container-id-4 {color: black;background-color: white;}#sk-container-id-4 pre{padding: 0;}#sk-container-id-4 div.sk-toggleable {background-color: white;}#sk-container-id-4 label.sk-toggleable__label {cursor: pointer;display: block;width: 100%;margin-bottom: 0;padding: 0.3em;box-sizing: border-box;text-align: center;}#sk-container-id-4 label.sk-toggleable__label-arrow:before {content: \"▸\";float: left;margin-right: 0.25em;color: #696969;}#sk-container-id-4 label.sk-toggleable__label-arrow:hover:before {color: black;}#sk-container-id-4 div.sk-estimator:hover label.sk-toggleable__label-arrow:before {color: black;}#sk-container-id-4 div.sk-toggleable__content {max-height: 0;max-width: 0;overflow: hidden;text-align: left;background-color: #f0f8ff;}#sk-container-id-4 div.sk-toggleable__content pre {margin: 0.2em;color: black;border-radius: 0.25em;background-color: #f0f8ff;}#sk-container-id-4 input.sk-toggleable__control:checked~div.sk-toggleable__content {max-height: 200px;max-width: 100%;overflow: auto;}#sk-container-id-4 input.sk-toggleable__control:checked~label.sk-toggleable__label-arrow:before {content: \"▾\";}#sk-container-id-4 div.sk-estimator input.sk-toggleable__control:checked~label.sk-toggleable__label {background-color: #d4ebff;}#sk-container-id-4 div.sk-label input.sk-toggleable__control:checked~label.sk-toggleable__label {background-color: #d4ebff;}#sk-container-id-4 input.sk-hidden--visually {border: 0;clip: rect(1px 1px 1px 1px);clip: rect(1px, 1px, 1px, 1px);height: 1px;margin: -1px;overflow: hidden;padding: 0;position: absolute;width: 1px;}#sk-container-id-4 div.sk-estimator {font-family: monospace;background-color: #f0f8ff;border: 1px dotted black;border-radius: 0.25em;box-sizing: border-box;margin-bottom: 0.5em;}#sk-container-id-4 div.sk-estimator:hover {background-color: #d4ebff;}#sk-container-id-4 div.sk-parallel-item::after {content: \"\";width: 100%;border-bottom: 1px solid gray;flex-grow: 1;}#sk-container-id-4 div.sk-label:hover label.sk-toggleable__label {background-color: #d4ebff;}#sk-container-id-4 div.sk-serial::before {content: \"\";position: absolute;border-left: 1px solid gray;box-sizing: border-box;top: 0;bottom: 0;left: 50%;z-index: 0;}#sk-container-id-4 div.sk-serial {display: flex;flex-direction: column;align-items: center;background-color: white;padding-right: 0.2em;padding-left: 0.2em;position: relative;}#sk-container-id-4 div.sk-item {position: relative;z-index: 1;}#sk-container-id-4 div.sk-parallel {display: flex;align-items: stretch;justify-content: center;background-color: white;position: relative;}#sk-container-id-4 div.sk-item::before, #sk-container-id-4 div.sk-parallel-item::before {content: \"\";position: absolute;border-left: 1px solid gray;box-sizing: border-box;top: 0;bottom: 0;left: 50%;z-index: -1;}#sk-container-id-4 div.sk-parallel-item {display: flex;flex-direction: column;z-index: 1;position: relative;background-color: white;}#sk-container-id-4 div.sk-parallel-item:first-child::after {align-self: flex-end;width: 50%;}#sk-container-id-4 div.sk-parallel-item:last-child::after {align-self: flex-start;width: 50%;}#sk-container-id-4 div.sk-parallel-item:only-child::after {width: 0;}#sk-container-id-4 div.sk-dashed-wrapped {border: 1px dashed gray;margin: 0 0.4em 0.5em 0.4em;box-sizing: border-box;padding-bottom: 0.4em;background-color: white;}#sk-container-id-4 div.sk-label label {font-family: monospace;font-weight: bold;display: inline-block;line-height: 1.2em;}#sk-container-id-4 div.sk-label-container {text-align: center;}#sk-container-id-4 div.sk-container {/* jupyter's `normalize.less` sets `[hidden] { display: none; }` but bootstrap.min.css set `[hidden] { display: none !important; }` so we also need the `!important` here to be able to override the default hidden behavior on the sphinx rendered scikit-learn.org. See: https://github.com/scikit-learn/scikit-learn/issues/21755 */display: inline-block !important;position: relative;}#sk-container-id-4 div.sk-text-repr-fallback {display: none;}</style><div id=\"sk-container-id-4\" class=\"sk-top-container\"><div class=\"sk-text-repr-fallback\"><pre>RandomForestRegressor(n_estimators=10, random_state=101)</pre><b>In a Jupyter environment, please rerun this cell to show the HTML representation or trust the notebook. <br />On GitHub, the HTML representation is unable to render, please try loading this page with nbviewer.org.</b></div><div class=\"sk-container\" hidden><div class=\"sk-item\"><div class=\"sk-estimator sk-toggleable\"><input class=\"sk-toggleable__control sk-hidden--visually\" id=\"sk-estimator-id-4\" type=\"checkbox\" checked><label for=\"sk-estimator-id-4\" class=\"sk-toggleable__label sk-toggleable__label-arrow\">RandomForestRegressor</label><div class=\"sk-toggleable__content\"><pre>RandomForestRegressor(n_estimators=10, random_state=101)</pre></div></div></div></div></div>"
            ],
            "text/plain": [
              "RandomForestRegressor(n_estimators=10, random_state=101)"
            ]
          },
          "execution_count": 270,
          "metadata": {},
          "output_type": "execute_result"
        }
      ],
      "source": [
        "#Import required package\n",
        "from sklearn.ensemble import RandomForestRegressor\n",
        "\n",
        "#Model fit\n",
        "rf = RandomForestRegressor(n_estimators=10,random_state = 101)\n",
        "rf.fit(X_train1, y_train1)\n"
      ]
    },
    {
      "cell_type": "code",
      "execution_count": null,
      "id": "f56fc2ee",
      "metadata": {
        "id": "f56fc2ee"
      },
      "outputs": [],
      "source": [
        "# Determine the important variables \n",
        "imp_features = rf.feature_importances_"
      ]
    },
    {
      "cell_type": "code",
      "execution_count": null,
      "id": "9c1e4222",
      "metadata": {
        "id": "9c1e4222"
      },
      "outputs": [],
      "source": [
        "feats = {} # a dictiionary to hold feature_name: feature_importance score\n",
        "for feature, imp in zip(X, rf.feature_importances_):\n",
        "    feats[feature] = imp"
      ]
    },
    {
      "cell_type": "code",
      "execution_count": null,
      "id": "d44bd4d5",
      "metadata": {
        "id": "d44bd4d5",
        "outputId": "5d79dee8-771a-4982-acd1-f670da63d97d"
      },
      "outputs": [
        {
          "data": {
            "text/plain": [
              "{'average_diameter': 0.0013897805069637932,\n",
              " 'overall_depth': 0.000867799588094904,\n",
              " 'overall_height': 0.0007853756880864888,\n",
              " 'overall_width': 0.0006112042421722303,\n",
              " 'soma_surface': 0.0005776142687522753,\n",
              " 'total_length': 0.1514487544633617,\n",
              " 'total_volume': 0.8218268869790413,\n",
              " 'average_bifurcation_angle_local': 0.0002493111759143355,\n",
              " 'average_contraction': 0.000918695952896,\n",
              " 'average_fragmentation': 0.00021402247534416008,\n",
              " 'average_parent_daughter_ratio': 0.0010182164605143337,\n",
              " 'max_branch_order': 0.0015399970416563628,\n",
              " 'max_euclidean_distance': 0.0001759283448991966,\n",
              " 'max_path_distance': 0.0004280941612746965,\n",
              " 'number_bifurcations': 0.00025549189127306766,\n",
              " 'number_branches': 0.00027494843164488423,\n",
              " 'number_nodes': 0.01649676899227223,\n",
              " 'number_stems': 0.00031714986225167183,\n",
              " 'number_tips': 0.0006039594735863618}"
            ]
          },
          "execution_count": 273,
          "metadata": {},
          "output_type": "execute_result"
        }
      ],
      "source": [
        "feats"
      ]
    },
    {
      "cell_type": "markdown",
      "id": "05f5ade4",
      "metadata": {
        "id": "05f5ade4"
      },
      "source": [
        "Random forest regressor below variables important for model fit:\n",
        "1. Total volume\n",
        "2. Toal length\n",
        "3. Number of nodes"
      ]
    },
    {
      "cell_type": "markdown",
      "id": "4b8e0a06",
      "metadata": {
        "id": "4b8e0a06"
      },
      "source": [
        "**(c) Use the random forest regression model to predict the total surface area of a neuron for the test set. Create a scatter plot of the true surface area of a neuron versus the predicted surface area. Interpret your plot.**"
      ]
    },
    {
      "cell_type": "code",
      "execution_count": null,
      "id": "48bff1b3",
      "metadata": {
        "id": "48bff1b3",
        "outputId": "dc936b80-63fd-48a8-ce77-c5fc499e21e3"
      },
      "outputs": [
        {
          "data": {
            "text/plain": [
              "Text(0, 0.5, 'Predicted value')"
            ]
          },
          "execution_count": 274,
          "metadata": {},
          "output_type": "execute_result"
        },
        {
          "data": {
            "image/png": "[encoded data removed]",
            "text/plain": [
              "<Figure size 800x600 with 1 Axes>"
            ]
          },
          "metadata": {},
          "output_type": "display_data"
        }
      ],
      "source": [
        "#Predict the total surface area on test dataset\n",
        "rf_test_pred = rf.predict(X_test1)\n",
        "\n",
        "#Scatter plot for true values and predicted values\n",
        "fig = plt.figure(figsize=(8,6))\n",
        "plt.scatter(y_test1,rf_test_pred)\n",
        "plt.xlabel('True value',fontsize=10)\n",
        "plt.ylabel('Predicted value',fontsize=10)"
      ]
    },
    {
      "cell_type": "markdown",
      "id": "57635112",
      "metadata": {
        "id": "57635112"
      },
      "source": [
        "Mostly predicted value are correctly predicted in comparion to y_test value.\n",
        "\n",
        "Scatter plot show points that are highly concentrated indicating that predicted values and true value are almost equal.\n",
        "\n",
        "Outlier values shows that some predicted points may or may not be correct.\n",
        "\n",
        "This shows that model is a good fit."
      ]
    },
    {
      "cell_type": "markdown",
      "id": "b38d39b3",
      "metadata": {
        "id": "b38d39b3"
      },
      "source": [
        "**(d) Assess the performance of a random forest regression model with 5, 10, 20, 50, 100, 200, 500 and 1000 trees in predicting the total surface area of a neuron. You should repeat the model fit and prediction 30 times for each number of trees, using a different random state for each repeat. Create a plot of the model performance as a function of the number of trees (use a log axis for the number of trees). The plot should show the mean and standard error of the performance metric for each number of trees. Discuss your findings.**"
      ]
    },
    {
      "cell_type": "code",
      "execution_count": null,
      "id": "4e8d85d3",
      "metadata": {
        "id": "4e8d85d3",
        "outputId": "26f4ff75-6f0d-4b04-a38d-a92c28a09181"
      },
      "outputs": [
        {
          "name": "stdout",
          "output_type": "stream",
          "text": [
            "\n",
            "Training for trees =  5\n",
            "\n",
            "Training for trees =  10\n",
            "\n",
            "Training for trees =  20\n",
            "\n",
            "Training for trees =  50\n",
            "\n",
            "Training for trees =  100\n",
            "\n",
            "Training for trees =  200\n",
            "\n",
            "Training for trees =  500\n",
            "\n",
            "Training for trees =  1000\n"
          ]
        }
      ],
      "source": [
        "#Store number of tress in a list\n",
        "number = [5,10,20,50,100,200,500,1000]\n",
        "#Create a list to store mean of 30 times MSE\n",
        "mean=[]\n",
        "\n",
        "for i in number:\n",
        "    MSE_rf = []\n",
        "    print(\"\\nTraining for trees = \",format(i))\n",
        "    j=1\n",
        "    while(j!=30):\n",
        "        rf = RandomForestRegressor(n_estimators=i,random_state = j)\n",
        "        rf.fit(X_train1, y_train1)\n",
        "        rf_test_pred1 = rf.predict(X_test1)\n",
        "        j+=1;\n",
        "        MSE_rf.append(np.mean(pow((rf_test_pred1- y_test1),2)))\n",
        "    mean.append(np.mean(MSE_rf))\n",
        "    "
      ]
    },
    {
      "cell_type": "code",
      "execution_count": null,
      "id": "ec19bf10",
      "metadata": {
        "id": "ec19bf10",
        "outputId": "8e35b2f2-4968-4f23-c952-2b31525c55dd"
      },
      "outputs": [
        {
          "data": {
            "text/plain": [
              "Text(0, 0.5, 'Mean')"
            ]
          },
          "execution_count": 276,
          "metadata": {},
          "output_type": "execute_result"
        },
        {
          "data": {
            "image/png": "[encoded data removed]",
            "text/plain": [
              "<Figure size 800x600 with 1 Axes>"
            ]
          },
          "metadata": {},
          "output_type": "display_data"
        }
      ],
      "source": [
        "fig = plt.figure(figsize=(8,6))\n",
        "plt.plot(number,mean)\n",
        "plt.xlabel('Number of trees',fontsize=10)\n",
        "plt.ylabel('Mean',fontsize=10)"
      ]
    },
    {
      "cell_type": "markdown",
      "id": "c080d75b",
      "metadata": {
        "id": "c080d75b"
      },
      "source": [
        "X shows the number of trees\n",
        "\n",
        "Y shows the Mean values of MSE for each tree numbers\n",
        "\n",
        "The graph clearly states that with increase in number of trees, Mean of mean squared error(MSE) reduces drastically.\n",
        "To be precise, a particular value of trees shows lowest mean which is the perfect trees number. Following increase in estimators(Trees), shows a straight line indicating no change in mean.\n",
        "\n",
        "Also, Less number of trees gives high MSE which shows poor fit of the model.\n",
        "\n",
        "Hence, to reduce the MSE, random forest regressor requires more trees. "
      ]
    },
    {
      "cell_type": "markdown",
      "id": "41b94b28",
      "metadata": {
        "id": "41b94b28"
      },
      "source": [
        "**(e) Explain the rationale for fitting the model multiple time with different random states.**"
      ]
    },
    {
      "cell_type": "markdown",
      "id": "416d5097",
      "metadata": {
        "id": "416d5097"
      },
      "source": [
        "Random state is a model hyperparameter used to control the randomness involved in machine learning models.\n",
        "\n",
        "The value of the random state hyperparameter indirectly affects the model’s performance score.\n",
        "\n",
        "Sometimes, you can get significant performance improvement for your model by running it multiple times with different random states. This is because random_state is also a hyperparameter and we can tune that one also to get better results."
      ]
    },
    {
      "cell_type": "markdown",
      "id": "c225177a",
      "metadata": {
        "id": "c225177a"
      },
      "source": [
        "**Question 6**\n",
        "\n",
        "**Clustering algorithms to identify different neuron types**\n",
        "\n",
        "**(a) Perform a k-means cluster analysis, using the morphological measurements as the features. Run the clustering algorithm for different numbers of clusters (integers from 1 to 10). Plot the model performance as a function of the number of clusters and identify the optimal number of clusters for this data.**"
      ]
    },
    {
      "cell_type": "code",
      "execution_count": null,
      "id": "e8b71393",
      "metadata": {
        "id": "e8b71393"
      },
      "outputs": [],
      "source": [
        "#Import required package\n",
        "from sklearn.cluster import KMeans"
      ]
    },
    {
      "cell_type": "code",
      "execution_count": null,
      "id": "783c1825",
      "metadata": {
        "id": "783c1825",
        "outputId": "b47a63e5-5c62-46c5-fc29-b8a206425cdf"
      },
      "outputs": [
        {
          "data": {
            "image/png": "[encoded data removed]",
            "text/plain": [
              "<Figure size 640x480 with 1 Axes>"
            ]
          },
          "metadata": {},
          "output_type": "display_data"
        }
      ],
      "source": [
        "#To store sum of squared distance\n",
        "S_S=[] \n",
        "#Store different set of K values\n",
        "K = range(1,10)\n",
        "#Run clustering algorithms with different set of K values\n",
        "for num_clusters in K :\n",
        "    k_means = KMeans(n_clusters=num_clusters)\n",
        "    k_means.fit(X)\n",
        "    S_S.append(k_means.inertia_)\n",
        "\n",
        "#Plot to find optimal number of clusters K\n",
        "plt.plot(K,S_S)\n",
        "plt.xlabel('K') \n",
        "plt.ylabel('Inertia') \n",
        "plt.title('Elbow Method For Optimal k(clusters)')\n",
        "plt.show()"
      ]
    },
    {
      "cell_type": "markdown",
      "id": "07fd8c5a",
      "metadata": {
        "id": "07fd8c5a"
      },
      "source": [
        "Elbow method is used to find optimal number of clusters in K-means clustering algorithm.\n",
        "\n",
        "Optimal number of clusters = 4 as after this the line is straight."
      ]
    },
    {
      "cell_type": "markdown",
      "id": "233baa28",
      "metadata": {
        "id": "233baa28"
      },
      "source": [
        "**(b) Perform a k-means cluster analysis, using the optimal number of clusters (identified in part (a)), and identify the most discriminatory variables.\n",
        "(Hint: Create histograms for each variable, with the data separated by cluster.)**"
      ]
    },
    {
      "cell_type": "code",
      "execution_count": null,
      "id": "06e5b335",
      "metadata": {
        "id": "06e5b335"
      },
      "outputs": [],
      "source": [
        "# Predict clusters to X values witk K=4\n",
        "k_means = KMeans(n_clusters=4)\n",
        "k_means.fit(X)\n",
        "preds = k_means.predict(X)"
      ]
    },
    {
      "cell_type": "code",
      "execution_count": null,
      "id": "4cdd623b",
      "metadata": {
        "id": "4cdd623b"
      },
      "outputs": [],
      "source": [
        "#New column with cluster number\n",
        "X['clusters'] = preds"
      ]
    },
    {
      "cell_type": "markdown",
      "id": "ee6d2292",
      "metadata": {
        "id": "ee6d2292"
      },
      "source": [
        "For every cluster 0,1,2,3, we will plot a histogram having each measurements of dataset."
      ]
    },
    {
      "cell_type": "code",
      "execution_count": null,
      "id": "e6bfe3d9",
      "metadata": {
        "id": "e6bfe3d9",
        "outputId": "bf0e934a-9492-4099-97d1-ed86053b5737"
      },
      "outputs": [
        {
          "data": {
            "text/plain": [
              "<matplotlib.legend.Legend at 0x7fa9d15c8cd0>"
            ]
          },
          "execution_count": 308,
          "metadata": {},
          "output_type": "execute_result"
        },
        {
          "data": {
            "image/png": "[encoded data removed]",
            "text/plain": [
              "<Figure size 1000x600 with 4 Axes>"
            ]
          },
          "metadata": {},
          "output_type": "display_data"
        }
      ],
      "source": [
        "clus = X[X['clusters']==0]\n",
        "clus = clus.drop(['clusters'],axis=1)\n",
        "plt.figure(figsize=(10,6))\n",
        "plt.subplot(2,2,1)\n",
        "plt.hist(clus,bins=2)\n",
        "plt.xlabel(\"cluster 0\")\n",
        "plt.ylabel(\"frequency\")\n",
        "\n",
        "clus = X[X['clusters']==1]\n",
        "clus = clus.drop(['clusters'],axis=1)\n",
        "plt.subplot(2,2,2)\n",
        "plt.hist(clus,bins = 2)\n",
        "plt.xlabel(\"cluster 1\")\n",
        "plt.ylabel(\"frequency\")\n",
        "\n",
        "clus = X[X['clusters']==2]\n",
        "clus = clus.drop(['clusters'],axis=1)\n",
        "plt.subplot(2,2,3)\n",
        "plt.hist(clus,bins=2)\n",
        "plt.xlabel(\"clusters 2\")\n",
        "plt.ylabel(\"frequency\")\n",
        "\n",
        "clus = X[X['clusters']==3]\n",
        "clus = clus.drop(['clusters'],axis=1)\n",
        "plt.subplot(2,2,4)\n",
        "plt.hist(clus,bins=2)\n",
        "plt.xlabel(\"clusters 3\")\n",
        "plt.ylabel(\"frequency\")\n",
        "plt.legend(clus.columns,bbox_to_anchor=(1.04,1),loc=\"upper left\",prop={\"size\":10})\n",
        "\n"
      ]
    },
    {
      "cell_type": "markdown",
      "id": "1f01c7ea",
      "metadata": {
        "id": "1f01c7ea"
      },
      "source": [
        "Discriminatory variables can be identified with histogram which is clear and stands out in plot. This shows that this variable has been clustered properly without overlapping.\n",
        "\n",
        "Since we have 4 optimal clusters, number of histogram would be 4.\n",
        "\n",
        "Therefor, No of discriminatory variables would be:\n",
        "\n",
        "1. Number of branches\n",
        "2. Number of nodes\n",
        "3. Total volume\n"
      ]
    },
    {
      "cell_type": "markdown",
      "id": "928b56f5",
      "metadata": {
        "id": "928b56f5"
      },
      "source": [
        "**Create a series of scatter plots for the most discriminatory variables, colouring the points by cluster number. Discuss your findings. Do your findings support the claim that multiple categories of neurons, with distinctly different morphological properties, are included in this dataset?**"
      ]
    },
    {
      "cell_type": "code",
      "execution_count": null,
      "id": "8330b2b3",
      "metadata": {
        "id": "8330b2b3",
        "outputId": "5ebc86ad-1dea-4232-a5d0-223d2caf9115"
      },
      "outputs": [
        {
          "data": {
            "image/png": "[encoded data removed]",
            "text/plain": [
              "<Figure size 1000x600 with 3 Axes>"
            ]
          },
          "metadata": {},
          "output_type": "display_data"
        }
      ],
      "source": [
        "plt.figure(figsize=(10,6))\n",
        "\n",
        "plt.subplot(2,2,1)\n",
        "\n",
        "plt.scatter(X['number_branches'],X['clusters'], marker='+', c=X['clusters'], cmap=plt.cm.coolwarm)\n",
        "plt.xlabel('number_branches')\n",
        "plt.ylabel('clusters')\n",
        "\n",
        "plt.subplot(2,2,2)\n",
        "plt.scatter(X['number_nodes'],X['clusters'],marker='+', c=X['clusters'], cmap=plt.cm.coolwarm)\n",
        "plt.xlabel('number_nodes')\n",
        "plt.ylabel('clusters')\n",
        "\n",
        "plt.subplot(2,2,3)\n",
        "plt.scatter(X['total_volume'],X['clusters'],marker='+', c=X['clusters'], cmap=plt.cm.coolwarm)\n",
        "plt.xlabel('total_volume')\n",
        "plt.ylabel('clusters')\n",
        "plt.show()"
      ]
    },
    {
      "cell_type": "markdown",
      "id": "84bbb6b7",
      "metadata": {
        "id": "84bbb6b7"
      },
      "source": [
        "We have created scatter plots for 3 discriminatory variables number of branches, number of nodes and total volume.\n",
        "\n",
        "Most Observations in number_branches comes under cluster 1 and 2.\n",
        "\n",
        "Most Observations in number_nodes comes under cluster 1 and 2.\n",
        "\n",
        "Most Observations in total_volume comes under cluster 1 and 3.\n"
      ]
    },
    {
      "cell_type": "markdown",
      "id": "344376a4",
      "metadata": {
        "id": "344376a4"
      },
      "source": [
        "It can be seen that for each neuron, some morphological features are included in the given plots."
      ]
    },
    {
      "cell_type": "markdown",
      "id": "e2648d8d",
      "metadata": {
        "id": "e2648d8d"
      },
      "source": [
        "**(d) Identify another clustering algorithm that may be suitable for this data. Give an overview of your chosen algorithm and discuss the type of problems it works best for. Repeat part (a)–(c) using your chosen algorithm. Discuss your results in relation to those from the k-means cluster analysis.**"
      ]
    },
    {
      "cell_type": "markdown",
      "id": "331e5d70",
      "metadata": {
        "id": "331e5d70"
      },
      "source": [
        "We will use **Agglomerative Hierarchical Clustering.**\n",
        "\n",
        "We assign each point to an individual cluster in this technique."
      ]
    },
    {
      "cell_type": "code",
      "execution_count": null,
      "id": "18ff026e",
      "metadata": {
        "id": "18ff026e",
        "outputId": "9cc23268-183d-4a8c-8adf-e1dd1f7a9fba"
      },
      "outputs": [
        {
          "data": {
            "text/plain": [
              "<matplotlib.lines.Line2D at 0x7faa7771f280>"
            ]
          },
          "execution_count": 210,
          "metadata": {},
          "output_type": "execute_result"
        },
        {
          "data": {
            "image/png": "[encoded data removed]",
            "text/plain": [
              "<Figure size 1000x500 with 1 Axes>"
            ]
          },
          "metadata": {},
          "output_type": "display_data"
        }
      ],
      "source": [
        "#Import required package \n",
        "import scipy.cluster.hierarchy as shc\n",
        "plt.figure(figsize=(10, 5))  \n",
        "plt.title(\"Dendrograms\") \n",
        "#Plot on X values\n",
        "dend = shc.dendrogram(shc.linkage(X, method='ward'))\n",
        "plt.axhline(y=60000, color='r', linestyle='--')"
      ]
    },
    {
      "cell_type": "markdown",
      "id": "080e9f37",
      "metadata": {
        "id": "080e9f37"
      },
      "source": [
        "More the distance of the vertical lines in the dendrogram, more the distance between those clusters.\n",
        "\n",
        "The x-axis contains the samples and y-axis represents the distance between these samples. The vertical line with maximum distance is the blue line and hence we can decide a threshold of 60000 and cut the dendrogram."
      ]
    },
    {
      "cell_type": "markdown",
      "id": "daf0fdc4",
      "metadata": {
        "id": "daf0fdc4"
      },
      "source": [
        "We have two clusters as this line cuts the dendrogram at two points. Let’s now apply hierarchical clustering for 2 clusters."
      ]
    },
    {
      "cell_type": "markdown",
      "id": "1aa3097d",
      "metadata": {
        "id": "1aa3097d"
      },
      "source": [
        "It can be seen from the plot, the observations and columns are highly concentrated. Therefore, hierarchical clustering doesn’t work very for large datasets.\n",
        "\n",
        "Due to its clustering technique, hierarchical clustering gives number of clusters 2 while k-means gives optimal number of clusters 4."
      ]
    },
    {
      "cell_type": "code",
      "execution_count": null,
      "id": "8c3ab17e",
      "metadata": {
        "id": "8c3ab17e",
        "outputId": "d34e4ed2-d25c-48e8-d79f-7d99937d3aae"
      },
      "outputs": [
        {
          "data": {
            "text/html": [
              "<div>\n",
              "<style scoped>\n",
              "    .dataframe tbody tr th:only-of-type {\n",
              "        vertical-align: middle;\n",
              "    }\n",
              "\n",
              "    .dataframe tbody tr th {\n",
              "        vertical-align: top;\n",
              "    }\n",
              "\n",
              "    .dataframe thead th {\n",
              "        text-align: right;\n",
              "    }\n",
              "</style>\n",
              "<table border=\"1\" class=\"dataframe\">\n",
              "  <thead>\n",
              "    <tr style=\"text-align: right;\">\n",
              "      <th></th>\n",
              "      <th>average_diameter</th>\n",
              "      <th>overall_depth</th>\n",
              "      <th>overall_height</th>\n",
              "      <th>overall_width</th>\n",
              "      <th>soma_surface</th>\n",
              "      <th>total_length</th>\n",
              "      <th>total_volume</th>\n",
              "      <th>average_bifurcation_angle_local</th>\n",
              "      <th>average_contraction</th>\n",
              "      <th>average_fragmentation</th>\n",
              "      <th>average_parent_daughter_ratio</th>\n",
              "      <th>max_branch_order</th>\n",
              "      <th>max_euclidean_distance</th>\n",
              "      <th>max_path_distance</th>\n",
              "      <th>number_bifurcations</th>\n",
              "      <th>number_branches</th>\n",
              "      <th>number_nodes</th>\n",
              "      <th>number_stems</th>\n",
              "      <th>number_tips</th>\n",
              "    </tr>\n",
              "  </thead>\n",
              "  <tbody>\n",
              "    <tr>\n",
              "      <th>0</th>\n",
              "      <td>0.195628</td>\n",
              "      <td>90.3529</td>\n",
              "      <td>548.798070</td>\n",
              "      <td>257.109717</td>\n",
              "      <td>128.269219</td>\n",
              "      <td>3658.629571</td>\n",
              "      <td>115.626135</td>\n",
              "      <td>78.026948</td>\n",
              "      <td>0.866136</td>\n",
              "      <td>48.081967</td>\n",
              "      <td>0.866582</td>\n",
              "      <td>7.0</td>\n",
              "      <td>476.921223</td>\n",
              "      <td>550.691106</td>\n",
              "      <td>31.0</td>\n",
              "      <td>70.0</td>\n",
              "      <td>3041.0</td>\n",
              "      <td>8.0</td>\n",
              "      <td>39.0</td>\n",
              "    </tr>\n",
              "    <tr>\n",
              "      <th>1</th>\n",
              "      <td>0.457635</td>\n",
              "      <td>87.0383</td>\n",
              "      <td>717.408343</td>\n",
              "      <td>199.214267</td>\n",
              "      <td>430.635072</td>\n",
              "      <td>4158.819949</td>\n",
              "      <td>730.014704</td>\n",
              "      <td>86.349668</td>\n",
              "      <td>0.656121</td>\n",
              "      <td>52.416667</td>\n",
              "      <td>0.950502</td>\n",
              "      <td>15.0</td>\n",
              "      <td>650.637431</td>\n",
              "      <td>957.710930</td>\n",
              "      <td>30.0</td>\n",
              "      <td>67.0</td>\n",
              "      <td>3271.0</td>\n",
              "      <td>7.0</td>\n",
              "      <td>37.0</td>\n",
              "    </tr>\n",
              "    <tr>\n",
              "      <th>2</th>\n",
              "      <td>0.295455</td>\n",
              "      <td>75.3286</td>\n",
              "      <td>584.083922</td>\n",
              "      <td>386.076695</td>\n",
              "      <td>502.033948</td>\n",
              "      <td>2667.618389</td>\n",
              "      <td>197.063796</td>\n",
              "      <td>71.911353</td>\n",
              "      <td>0.867122</td>\n",
              "      <td>73.821429</td>\n",
              "      <td>0.816243</td>\n",
              "      <td>5.0</td>\n",
              "      <td>477.440600</td>\n",
              "      <td>569.974920</td>\n",
              "      <td>14.0</td>\n",
              "      <td>32.0</td>\n",
              "      <td>2151.0</td>\n",
              "      <td>4.0</td>\n",
              "      <td>18.0</td>\n",
              "    </tr>\n",
              "    <tr>\n",
              "      <th>3</th>\n",
              "      <td>0.414033</td>\n",
              "      <td>89.0718</td>\n",
              "      <td>284.641670</td>\n",
              "      <td>239.492610</td>\n",
              "      <td>383.828302</td>\n",
              "      <td>1543.941010</td>\n",
              "      <td>237.466517</td>\n",
              "      <td>72.177287</td>\n",
              "      <td>0.897780</td>\n",
              "      <td>42.266667</td>\n",
              "      <td>0.822614</td>\n",
              "      <td>4.0</td>\n",
              "      <td>212.448082</td>\n",
              "      <td>249.521471</td>\n",
              "      <td>16.0</td>\n",
              "      <td>35.0</td>\n",
              "      <td>1292.0</td>\n",
              "      <td>3.0</td>\n",
              "      <td>19.0</td>\n",
              "    </tr>\n",
              "    <tr>\n",
              "      <th>4</th>\n",
              "      <td>0.201323</td>\n",
              "      <td>44.5237</td>\n",
              "      <td>302.038542</td>\n",
              "      <td>323.493562</td>\n",
              "      <td>120.229052</td>\n",
              "      <td>1621.871325</td>\n",
              "      <td>54.521240</td>\n",
              "      <td>70.758367</td>\n",
              "      <td>0.928043</td>\n",
              "      <td>39.733333</td>\n",
              "      <td>0.803137</td>\n",
              "      <td>3.0</td>\n",
              "      <td>242.351930</td>\n",
              "      <td>258.868561</td>\n",
              "      <td>15.0</td>\n",
              "      <td>36.0</td>\n",
              "      <td>1397.0</td>\n",
              "      <td>6.0</td>\n",
              "      <td>21.0</td>\n",
              "    </tr>\n",
              "  </tbody>\n",
              "</table>\n",
              "</div>"
            ],
            "text/plain": [
              "   average_diameter  overall_depth  overall_height  overall_width  \\\n",
              "0          0.195628        90.3529      548.798070     257.109717   \n",
              "1          0.457635        87.0383      717.408343     199.214267   \n",
              "2          0.295455        75.3286      584.083922     386.076695   \n",
              "3          0.414033        89.0718      284.641670     239.492610   \n",
              "4          0.201323        44.5237      302.038542     323.493562   \n",
              "\n",
              "   soma_surface  total_length  total_volume  average_bifurcation_angle_local  \\\n",
              "0    128.269219   3658.629571    115.626135                        78.026948   \n",
              "1    430.635072   4158.819949    730.014704                        86.349668   \n",
              "2    502.033948   2667.618389    197.063796                        71.911353   \n",
              "3    383.828302   1543.941010    237.466517                        72.177287   \n",
              "4    120.229052   1621.871325     54.521240                        70.758367   \n",
              "\n",
              "   average_contraction  average_fragmentation  average_parent_daughter_ratio  \\\n",
              "0             0.866136              48.081967                       0.866582   \n",
              "1             0.656121              52.416667                       0.950502   \n",
              "2             0.867122              73.821429                       0.816243   \n",
              "3             0.897780              42.266667                       0.822614   \n",
              "4             0.928043              39.733333                       0.803137   \n",
              "\n",
              "   max_branch_order  max_euclidean_distance  max_path_distance  \\\n",
              "0               7.0              476.921223         550.691106   \n",
              "1              15.0              650.637431         957.710930   \n",
              "2               5.0              477.440600         569.974920   \n",
              "3               4.0              212.448082         249.521471   \n",
              "4               3.0              242.351930         258.868561   \n",
              "\n",
              "   number_bifurcations  number_branches  number_nodes  number_stems  \\\n",
              "0                 31.0             70.0        3041.0           8.0   \n",
              "1                 30.0             67.0        3271.0           7.0   \n",
              "2                 14.0             32.0        2151.0           4.0   \n",
              "3                 16.0             35.0        1292.0           3.0   \n",
              "4                 15.0             36.0        1397.0           6.0   \n",
              "\n",
              "   number_tips  \n",
              "0         39.0  \n",
              "1         37.0  \n",
              "2         18.0  \n",
              "3         19.0  \n",
              "4         21.0  "
            ]
          },
          "execution_count": 283,
          "metadata": {},
          "output_type": "execute_result"
        }
      ],
      "source": [
        "# Copy X into X1\n",
        "X1 = X.drop(['clusters'],axis=1)\n",
        "X1.head()"
      ]
    },
    {
      "cell_type": "code",
      "execution_count": null,
      "id": "cf15dc47",
      "metadata": {
        "id": "cf15dc47"
      },
      "outputs": [],
      "source": [
        "from sklearn.cluster import AgglomerativeClustering\n",
        "cluster = AgglomerativeClustering(n_clusters=2, affinity='euclidean', linkage='ward')  \n",
        "clu = cluster.fit_predict(X1)"
      ]
    },
    {
      "cell_type": "code",
      "execution_count": null,
      "id": "589680a9",
      "metadata": {
        "id": "589680a9",
        "outputId": "5c44430a-ee5f-446a-ff14-be08796c7dff"
      },
      "outputs": [
        {
          "data": {
            "text/html": [
              "<div>\n",
              "<style scoped>\n",
              "    .dataframe tbody tr th:only-of-type {\n",
              "        vertical-align: middle;\n",
              "    }\n",
              "\n",
              "    .dataframe tbody tr th {\n",
              "        vertical-align: top;\n",
              "    }\n",
              "\n",
              "    .dataframe thead th {\n",
              "        text-align: right;\n",
              "    }\n",
              "</style>\n",
              "<table border=\"1\" class=\"dataframe\">\n",
              "  <thead>\n",
              "    <tr style=\"text-align: right;\">\n",
              "      <th></th>\n",
              "      <th>average_diameter</th>\n",
              "      <th>overall_depth</th>\n",
              "      <th>overall_height</th>\n",
              "      <th>overall_width</th>\n",
              "      <th>soma_surface</th>\n",
              "      <th>total_length</th>\n",
              "      <th>total_volume</th>\n",
              "      <th>average_bifurcation_angle_local</th>\n",
              "      <th>average_contraction</th>\n",
              "      <th>average_fragmentation</th>\n",
              "      <th>average_parent_daughter_ratio</th>\n",
              "      <th>max_branch_order</th>\n",
              "      <th>max_euclidean_distance</th>\n",
              "      <th>max_path_distance</th>\n",
              "      <th>number_bifurcations</th>\n",
              "      <th>number_branches</th>\n",
              "      <th>number_nodes</th>\n",
              "      <th>number_stems</th>\n",
              "      <th>number_tips</th>\n",
              "      <th>clusters</th>\n",
              "    </tr>\n",
              "  </thead>\n",
              "  <tbody>\n",
              "    <tr>\n",
              "      <th>0</th>\n",
              "      <td>0.195628</td>\n",
              "      <td>90.3529</td>\n",
              "      <td>548.798070</td>\n",
              "      <td>257.109717</td>\n",
              "      <td>128.269219</td>\n",
              "      <td>3658.629571</td>\n",
              "      <td>115.626135</td>\n",
              "      <td>78.026948</td>\n",
              "      <td>0.866136</td>\n",
              "      <td>48.081967</td>\n",
              "      <td>0.866582</td>\n",
              "      <td>7.0</td>\n",
              "      <td>476.921223</td>\n",
              "      <td>550.691106</td>\n",
              "      <td>31.0</td>\n",
              "      <td>70.0</td>\n",
              "      <td>3041.0</td>\n",
              "      <td>8.0</td>\n",
              "      <td>39.0</td>\n",
              "      <td>1</td>\n",
              "    </tr>\n",
              "    <tr>\n",
              "      <th>1</th>\n",
              "      <td>0.457635</td>\n",
              "      <td>87.0383</td>\n",
              "      <td>717.408343</td>\n",
              "      <td>199.214267</td>\n",
              "      <td>430.635072</td>\n",
              "      <td>4158.819949</td>\n",
              "      <td>730.014704</td>\n",
              "      <td>86.349668</td>\n",
              "      <td>0.656121</td>\n",
              "      <td>52.416667</td>\n",
              "      <td>0.950502</td>\n",
              "      <td>15.0</td>\n",
              "      <td>650.637431</td>\n",
              "      <td>957.710930</td>\n",
              "      <td>30.0</td>\n",
              "      <td>67.0</td>\n",
              "      <td>3271.0</td>\n",
              "      <td>7.0</td>\n",
              "      <td>37.0</td>\n",
              "      <td>1</td>\n",
              "    </tr>\n",
              "    <tr>\n",
              "      <th>2</th>\n",
              "      <td>0.295455</td>\n",
              "      <td>75.3286</td>\n",
              "      <td>584.083922</td>\n",
              "      <td>386.076695</td>\n",
              "      <td>502.033948</td>\n",
              "      <td>2667.618389</td>\n",
              "      <td>197.063796</td>\n",
              "      <td>71.911353</td>\n",
              "      <td>0.867122</td>\n",
              "      <td>73.821429</td>\n",
              "      <td>0.816243</td>\n",
              "      <td>5.0</td>\n",
              "      <td>477.440600</td>\n",
              "      <td>569.974920</td>\n",
              "      <td>14.0</td>\n",
              "      <td>32.0</td>\n",
              "      <td>2151.0</td>\n",
              "      <td>4.0</td>\n",
              "      <td>18.0</td>\n",
              "      <td>1</td>\n",
              "    </tr>\n",
              "    <tr>\n",
              "      <th>3</th>\n",
              "      <td>0.414033</td>\n",
              "      <td>89.0718</td>\n",
              "      <td>284.641670</td>\n",
              "      <td>239.492610</td>\n",
              "      <td>383.828302</td>\n",
              "      <td>1543.941010</td>\n",
              "      <td>237.466517</td>\n",
              "      <td>72.177287</td>\n",
              "      <td>0.897780</td>\n",
              "      <td>42.266667</td>\n",
              "      <td>0.822614</td>\n",
              "      <td>4.0</td>\n",
              "      <td>212.448082</td>\n",
              "      <td>249.521471</td>\n",
              "      <td>16.0</td>\n",
              "      <td>35.0</td>\n",
              "      <td>1292.0</td>\n",
              "      <td>3.0</td>\n",
              "      <td>19.0</td>\n",
              "      <td>1</td>\n",
              "    </tr>\n",
              "    <tr>\n",
              "      <th>4</th>\n",
              "      <td>0.201323</td>\n",
              "      <td>44.5237</td>\n",
              "      <td>302.038542</td>\n",
              "      <td>323.493562</td>\n",
              "      <td>120.229052</td>\n",
              "      <td>1621.871325</td>\n",
              "      <td>54.521240</td>\n",
              "      <td>70.758367</td>\n",
              "      <td>0.928043</td>\n",
              "      <td>39.733333</td>\n",
              "      <td>0.803137</td>\n",
              "      <td>3.0</td>\n",
              "      <td>242.351930</td>\n",
              "      <td>258.868561</td>\n",
              "      <td>15.0</td>\n",
              "      <td>36.0</td>\n",
              "      <td>1397.0</td>\n",
              "      <td>6.0</td>\n",
              "      <td>21.0</td>\n",
              "      <td>1</td>\n",
              "    </tr>\n",
              "  </tbody>\n",
              "</table>\n",
              "</div>"
            ],
            "text/plain": [
              "   average_diameter  overall_depth  overall_height  overall_width  \\\n",
              "0          0.195628        90.3529      548.798070     257.109717   \n",
              "1          0.457635        87.0383      717.408343     199.214267   \n",
              "2          0.295455        75.3286      584.083922     386.076695   \n",
              "3          0.414033        89.0718      284.641670     239.492610   \n",
              "4          0.201323        44.5237      302.038542     323.493562   \n",
              "\n",
              "   soma_surface  total_length  total_volume  average_bifurcation_angle_local  \\\n",
              "0    128.269219   3658.629571    115.626135                        78.026948   \n",
              "1    430.635072   4158.819949    730.014704                        86.349668   \n",
              "2    502.033948   2667.618389    197.063796                        71.911353   \n",
              "3    383.828302   1543.941010    237.466517                        72.177287   \n",
              "4    120.229052   1621.871325     54.521240                        70.758367   \n",
              "\n",
              "   average_contraction  average_fragmentation  average_parent_daughter_ratio  \\\n",
              "0             0.866136              48.081967                       0.866582   \n",
              "1             0.656121              52.416667                       0.950502   \n",
              "2             0.867122              73.821429                       0.816243   \n",
              "3             0.897780              42.266667                       0.822614   \n",
              "4             0.928043              39.733333                       0.803137   \n",
              "\n",
              "   max_branch_order  max_euclidean_distance  max_path_distance  \\\n",
              "0               7.0              476.921223         550.691106   \n",
              "1              15.0              650.637431         957.710930   \n",
              "2               5.0              477.440600         569.974920   \n",
              "3               4.0              212.448082         249.521471   \n",
              "4               3.0              242.351930         258.868561   \n",
              "\n",
              "   number_bifurcations  number_branches  number_nodes  number_stems  \\\n",
              "0                 31.0             70.0        3041.0           8.0   \n",
              "1                 30.0             67.0        3271.0           7.0   \n",
              "2                 14.0             32.0        2151.0           4.0   \n",
              "3                 16.0             35.0        1292.0           3.0   \n",
              "4                 15.0             36.0        1397.0           6.0   \n",
              "\n",
              "   number_tips  clusters  \n",
              "0         39.0         1  \n",
              "1         37.0         1  \n",
              "2         18.0         1  \n",
              "3         19.0         1  \n",
              "4         21.0         1  "
            ]
          },
          "execution_count": 286,
          "metadata": {},
          "output_type": "execute_result"
        }
      ],
      "source": [
        "X1['clusters'] = clu\n",
        "X1.head()"
      ]
    },
    {
      "cell_type": "markdown",
      "id": "99286cd6",
      "metadata": {
        "id": "99286cd6"
      },
      "source": [
        "For every cluster 0,1, we will plot a histogram having each measurements of dataset."
      ]
    },
    {
      "cell_type": "code",
      "execution_count": null,
      "id": "1bf37c3e",
      "metadata": {
        "id": "1bf37c3e",
        "outputId": "ada1d000-76b8-4232-827f-e7c08ec0a1bd"
      },
      "outputs": [
        {
          "data": {
            "text/plain": [
              "<matplotlib.legend.Legend at 0x7fa9d106a880>"
            ]
          },
          "execution_count": 310,
          "metadata": {},
          "output_type": "execute_result"
        },
        {
          "data": {
            "image/png": "[encoded data removed]",
            "text/plain": [
              "<Figure size 1000x600 with 2 Axes>"
            ]
          },
          "metadata": {},
          "output_type": "display_data"
        }
      ],
      "source": [
        "clus = X1[X1['clusters']==0]\n",
        "clus = clus.drop(['clusters'],axis=1)\n",
        "plt.figure(figsize=(10,6))\n",
        "plt.subplot(2,2,1)\n",
        "plt.hist(clus,bins=2)\n",
        "plt.xlabel(\"cluster 0\")\n",
        "plt.ylabel(\"frequency\")\n",
        "\n",
        "clus = X1[X1['clusters']==1]\n",
        "clus = clus.drop(['clusters'],axis=1)\n",
        "plt.subplot(2,2,2)\n",
        "plt.hist(clus,bins = 2)\n",
        "plt.xlabel(\"cluster 1\")\n",
        "plt.ylabel(\"frequency\")\n",
        "plt.legend(clus.columns,bbox_to_anchor=(1.04,1),loc=\"upper left\",prop={\"size\":10})\n",
        "\n"
      ]
    },
    {
      "cell_type": "markdown",
      "id": "a232324c",
      "metadata": {
        "id": "a232324c"
      },
      "source": [
        "Discriminatory variables can be identified with histogram which is clear and stands out in plot. This shows that this variable has been clustered properly without overlapping.\n",
        "\n",
        "Since we have 2 optimal clusters, number of histogram would be 2.\n",
        "\n",
        "Therefor, No of discriminatory variables would be:\n",
        "\n",
        "1. Number of branches\n",
        "2. Number of nodes"
      ]
    },
    {
      "cell_type": "markdown",
      "id": "1338e844",
      "metadata": {
        "id": "1338e844"
      },
      "source": [
        "Series of scatter plots for the most discriminatory variables"
      ]
    },
    {
      "cell_type": "code",
      "execution_count": null,
      "id": "5b1a1b84",
      "metadata": {
        "id": "5b1a1b84",
        "outputId": "5d48b0d3-bdb5-4d71-e06a-80f7c377ba4d"
      },
      "outputs": [
        {
          "data": {
            "image/png": "[encoded data removed]",
            "text/plain": [
              "<Figure size 1000x600 with 2 Axes>"
            ]
          },
          "metadata": {},
          "output_type": "display_data"
        }
      ],
      "source": [
        "plt.figure(figsize=(10,6))\n",
        "plt.subplot(2,2,1)\n",
        "plt.scatter(X1['number_branches'],X1['clusters'], c=X['clusters'])\n",
        "plt.xlabel('number_branches')\n",
        "plt.ylabel('clusters')\n",
        "\n",
        "plt.subplot(2,2,2)\n",
        "plt.scatter(X1['number_nodes'],X1['clusters'], c=X['clusters'])\n",
        "plt.xlabel('number_nodes')\n",
        "plt.ylabel('clusters')\n",
        "\n",
        "plt.show()"
      ]
    },
    {
      "cell_type": "markdown",
      "id": "7d7549c7",
      "metadata": {
        "id": "7d7549c7"
      },
      "source": [
        "We have created scatter plots for 3 discriminatory variables number of branches, number of nodes.\n",
        "\n",
        "Equal no of observations in number_branches come under cluster 1 and 2.\n",
        "\n",
        "Most Observations in number_nodes comes under cluster 1."
      ]
    }
  ],
  "metadata": {
    "kernelspec": {
      "display_name": "Python 3 (ipykernel)",
      "language": "python",
      "name": "python3"
    },
    "language_info": {
      "codemirror_mode": {
        "name": "ipython",
        "version": 3
      },
      "file_extension": ".py",
      "mimetype": "text/x-python",
      "name": "python",
      "nbconvert_exporter": "python",
      "pygments_lexer": "ipython3",
      "version": "3.9.0"
    },
    "colab": {
      "provenance": []
    }
  },
  "nbformat": 4,
  "nbformat_minor": 5
}